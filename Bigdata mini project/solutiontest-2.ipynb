{
 "cells": [
  {
   "cell_type": "code",
   "execution_count": 77,
   "metadata": {},
   "outputs": [],
   "source": [
    "# we are reading file here\n",
    "df = spark.read.csv(\"file:////home/hadoop/datasets/regusers.csv\",  header=True)"
   ]
  },
  {
   "cell_type": "code",
   "execution_count": 79,
   "metadata": {},
   "outputs": [
    {
     "data": {
      "text/plain": [
       "pyspark.sql.dataframe.DataFrame"
      ]
     },
     "execution_count": 79,
     "metadata": {},
     "output_type": "execute_result"
    }
   ],
   "source": [
    "# checking the type of df\n",
    "type(df)"
   ]
  },
  {
   "cell_type": "code",
   "execution_count": 80,
   "metadata": {},
   "outputs": [
    {
     "data": {
      "text/plain": [
       "38455"
      ]
     },
     "execution_count": 80,
     "metadata": {},
     "output_type": "execute_result"
    }
   ],
   "source": [
    "# counting no rows in df\n",
    "df.count()"
   ]
  },
  {
   "cell_type": "code",
   "execution_count": 453,
   "metadata": {
    "scrolled": false
   },
   "outputs": [
    {
     "name": "stdout",
     "output_type": "stream",
     "text": [
      "+--------------------+---------+---------+\n",
      "|                SWID| BIRTH_DT|GENDER_CD|\n",
      "+--------------------+---------+---------+\n",
      "|0001BDD9-EABF-4D0...| 8-Apr-84|        F|\n",
      "|00071AA7-86D2-4EB...| 7-Feb-88|        F|\n",
      "|00071B7D-31AF-4D8...|22-Oct-64|        F|\n",
      "|0007967E-F188-459...| 1-Jun-66|        M|\n",
      "|000B90B2-92DC-4A7...|13-Jun-84|        M|\n",
      "|000C1856-994E-476...|29-Dec-80|        U|\n",
      "|000F36E5-9891-409...|24-Mar-85|        F|\n",
      "|00102F3F-061C-421...| 1-Nov-91|        F|\n",
      "|0010C6F2-8C04-450...|20-Jun-02|        U|\n",
      "|0011C945-28C4-4D6...|13-Nov-87|        F|\n",
      "|001704E0-6CD8-429...|10-Jul-91|        M|\n",
      "|001720A4-44E3-43F...| 8-Nov-90|        M|\n",
      "|001834AA-7451-49E...|21-Feb-88|        M|\n",
      "|0018B3DA-4763-460...|21-Apr-02|        U|\n",
      "|00193DB8-1FE8-440...|31-Jul-70|        M|\n",
      "|001AFDA9-18D4-4FE...|16-Jan-81|        U|\n",
      "|001BFE35-555B-48E...|16-Feb-82|        M|\n",
      "|001F01F3-11D8-470...|11-Dec-00|        F|\n",
      "|001F59ED-88C4-4BD...| 2-Feb-97|        U|\n",
      "|001F604A-6CA8-45B...|29-Jun-88|        M|\n",
      "+--------------------+---------+---------+\n",
      "only showing top 20 rows\n",
      "\n"
     ]
    }
   ],
   "source": [
    "# reading 20 rows of df\n",
    "df.show(20)"
   ]
  },
  {
   "cell_type": "code",
   "execution_count": 54,
   "metadata": {},
   "outputs": [
    {
     "name": "stdout",
     "output_type": "stream",
     "text": [
      "root\n",
      " |-- SWID: string (nullable = true)\n",
      " |-- BIRTH_DT: string (nullable = true)\n",
      " |-- GENDER_CD: string (nullable = true)\n",
      "\n"
     ]
    }
   ],
   "source": [
    "# checking schema of df\n",
    "df.printSchema()"
   ]
  },
  {
   "cell_type": "code",
   "execution_count": 82,
   "metadata": {},
   "outputs": [],
   "source": [
    "# transforming df into temp formate to excute sql queries\n",
    "df.createOrReplaceTempView('df')"
   ]
  },
  {
   "cell_type": "code",
   "execution_count": 84,
   "metadata": {},
   "outputs": [],
   "source": [
    "# ingesting firt table into casandra database\n",
    "query_results = spark.sql(\"SELECT BIRTH_DT as birth_dt, GENDER_CD as gender_cd, SWID as swid FROM df\")\\\n",
    "    .write.format(\"org.apache.spark.sql.cassandra\")\\\n",
    "    .options(table=\"reguser\",keyspace=\"test\")\\\n",
    "    .save(mode=\"append\")"
   ]
  },
  {
   "cell_type": "code",
   "execution_count": 85,
   "metadata": {},
   "outputs": [],
   "source": [
    "df1 = spark.read.csv(\"file:////var/lib/hadoop/urlmap.tsv\", sep=r'\\t', header=True )"
   ]
  },
  {
   "cell_type": "code",
   "execution_count": 137,
   "metadata": {},
   "outputs": [],
   "source": [
    "df2 = spark.read.csv(\"file:////var/lib/hadoop/web_log.tsv\", sep=r'\\t', header = False)"
   ]
  },
  {
   "cell_type": "code",
   "execution_count": 136,
   "metadata": {},
   "outputs": [
    {
     "data": {
      "text/plain": [
       "pyspark.sql.dataframe.DataFrame"
      ]
     },
     "execution_count": 136,
     "metadata": {},
     "output_type": "execute_result"
    }
   ],
   "source": [
    "type(df1)"
   ]
  },
  {
   "cell_type": "code",
   "execution_count": 424,
   "metadata": {},
   "outputs": [
    {
     "name": "stdout",
     "output_type": "stream",
     "text": [
      "+--------------------+-----------+\n",
      "|                 url|   category|\n",
      "+--------------------+-----------+\n",
      "|http://www.acme.com/|      books|\n",
      "|http://www.acme.c...|     movies|\n",
      "|http://www.acme.c...|      games|\n",
      "|http://www.acme.c...|electronics|\n",
      "|http://www.acme.c...|  computers|\n",
      "|http://www.acme.c...|home&garden|\n",
      "|http://www.acme.c...|   handbags|\n",
      "|http://www.acme.c...|   clothing|\n",
      "|http://www.acme.c...|      shoes|\n",
      "|http://www.acme.c...|   outdoors|\n",
      "|http://www.acme.c...| automotive|\n",
      "|http://www.acme.c...|   clothing|\n",
      "|http://www.acme.c...|      tools|\n",
      "|http://www.acme.c...|accessories|\n",
      "|http://www.acme.c...|    grocery|\n",
      "|http://www.acme.c...|   clothing|\n",
      "|http://www.acme.c...|   clothing|\n",
      "|http://www.acme.c...|   clothing|\n",
      "|http://www.acme.c...|   clothing|\n",
      "|http://www.acme.c...|      shoes|\n",
      "+--------------------+-----------+\n",
      "only showing top 20 rows\n",
      "\n"
     ]
    }
   ],
   "source": [
    "df1.show(20)"
   ]
  },
  {
   "cell_type": "code",
   "execution_count": 88,
   "metadata": {},
   "outputs": [
    {
     "name": "stdout",
     "output_type": "stream",
     "text": [
      "root\n",
      " |-- url: string (nullable = true)\n",
      " |-- category: string (nullable = true)\n",
      "\n"
     ]
    }
   ],
   "source": [
    "df1.printSchema()"
   ]
  },
  {
   "cell_type": "code",
   "execution_count": 89,
   "metadata": {},
   "outputs": [],
   "source": [
    "df1.createOrReplaceTempView('df1')"
   ]
  },
  {
   "cell_type": "code",
   "execution_count": 90,
   "metadata": {},
   "outputs": [],
   "source": [
    "# ingesting 2 table into cassandra\n",
    "query_results = spark.sql(\"SELECT category as category, url as url FROM df1\")\\\n",
    "    .write.format(\"org.apache.spark.sql.cassandra\")\\\n",
    "    .options(table=\"url\",keyspace=\"test\")\\\n",
    "    .save(mode=\"append\")"
   ]
  },
  {
   "cell_type": "code",
   "execution_count": 407,
   "metadata": {},
   "outputs": [],
   "source": [
    "df2 = spark.read.csv(\"file:////var/lib/hadoop/web_log.tsv\", sep=r'\\t', header = False)"
   ]
  },
  {
   "cell_type": "code",
   "execution_count": 404,
   "metadata": {},
   "outputs": [
    {
     "name": "stdout",
     "output_type": "stream",
     "text": [
      "+---+----------+-------------------+-------------------+-------------------+-----------+---+---+---------------+---+---+-----------+---+-----------------------------------------+--------------------------------------+-----------+-----------+-----------+-----------+-----------+-----------+-----------+-----------+-----------+-----------+-----------+-----------+---+--------------+-----------+---+---+----+---+---+---+---+---+---+-------------+-----------------------+---+---+--------------------+----------------------------------------------------------------------------+---+---+---+---+---+--------------+---+---+---+---+---+---+---+-----------+-----------+-----------+-----------+-----------+-----------+-----------+---+-----------+-----------+-----------+-----------+-----------+-----------+-----------+-----------+-----------+-----------+-----------+-----------+-----------+-----------+-----------+-----------+----+-----------+-----------+-----------+-----------+---+-----------+-----------+-----------+-----------+-----------+-----------+-----------+-----------+-----------+-----------+-------+-----------+-----------+------------+------------+------------+------------+------------+------------+------------+------------+------------+------------+------------+------------+------------+------------+------------+------------+------------+------------+------------+------------+------------+------+------------+------------+------------+------------+------------+------------+------------+------------+------------+------------+------------+------------+------------+------------+------------+------------+------------+------------+------------+------------+------------+------------+------------+------------+------------+------------+------------+------------+------------+------------+------------+------------+------------+------------+------------+------------+------------+------------+------------+------------+------------+------------+------------+------------+------------+------------+------------+------------+------------+------------+----+------------+------------+------------+------------+------------+\n",
      "|_c0|1330641957|2012-03-01 14:45:57|2850314080676293389|4611687159819725987|FAS-2.8-AS3|  N|  0|108.217.237.145|  1|0.1|Unnamed: 10| 10|http://www.acme.com/SH55126545/VD55173061|{6BB42667-22A2-49BD-852B-CC02B0E9FA74}|Unnamed: 14|Unnamed: 15|Unnamed: 16|Unnamed: 17|Unnamed: 18|Unnamed: 19|Unnamed: 20|Unnamed: 21|Unnamed: 22|Unnamed: 23|Unnamed: 24|Unnamed: 25|  U|en-us,en;q=0.5|Unnamed: 28|591|977|1920|  Y|Y.1|Y.2|  2|0.2|304|sbcglobal.net|1/2/2012 17:26:36 4 300| 45| 41|   10020,00007,00011|Mozilla/5.0 (Windows NT 6.1; WOW64; rv:10.0.2) Gecko/20100101 Firefox/10.0.2|179| 57| 34| 19|0.3|       meriden|usa|533| ct|0.4|0.5|0.6|0.7|Unnamed: 57|Unnamed: 58|Unnamed: 59|Unnamed: 60|Unnamed: 61|Unnamed: 62|Unnamed: 63|0.8|Unnamed: 65|Unnamed: 66|Unnamed: 67|Unnamed: 68|Unnamed: 69|Unnamed: 70|Unnamed: 71|Unnamed: 72|Unnamed: 73|Unnamed: 74|Unnamed: 75|Unnamed: 76|Unnamed: 77|Unnamed: 78|Unnamed: 79|Unnamed: 80|WTNH|Unnamed: 82|Unnamed: 83|Unnamed: 84|Unnamed: 85|0.9|Unnamed: 87|Unnamed: 88|Unnamed: 89|Unnamed: 90|Unnamed: 91|Unnamed: 92|Unnamed: 93|Unnamed: 94|Unnamed: 95|Unnamed: 96|    120|Unnamed: 98|Unnamed: 99|Unnamed: 100|Unnamed: 101|Unnamed: 102|Unnamed: 103|Unnamed: 104|Unnamed: 105|Unnamed: 106|Unnamed: 107|Unnamed: 108|Unnamed: 109|Unnamed: 110|Unnamed: 111|Unnamed: 112|Unnamed: 113|Unnamed: 114|Unnamed: 115|Unnamed: 116|Unnamed: 117|Unnamed: 118|Unnamed: 119|Unnamed: 120|WTNH.1|Unnamed: 122|Unnamed: 123|Unnamed: 124|Unnamed: 125|Unnamed: 126|Unnamed: 127|Unnamed: 128|Unnamed: 129|Unnamed: 130|Unnamed: 131|Unnamed: 132|Unnamed: 133|Unnamed: 134|Unnamed: 135|Unnamed: 136|Unnamed: 137|Unnamed: 138|Unnamed: 139|Unnamed: 140|Unnamed: 141|Unnamed: 142|Unnamed: 143|Unnamed: 144|Unnamed: 145|Unnamed: 146|Unnamed: 147|Unnamed: 148|Unnamed: 149|Unnamed: 150|Unnamed: 151|Unnamed: 152|Unnamed: 153|Unnamed: 154|Unnamed: 155|Unnamed: 156|Unnamed: 157|Unnamed: 158|Unnamed: 159|Unnamed: 160|Unnamed: 161|Unnamed: 162|Unnamed: 163|Unnamed: 164|Unnamed: 165|Unnamed: 166|Unnamed: 167|Unnamed: 168|Unnamed: 169|Unnamed: 170|Unnamed: 171|0.10|Unnamed: 173|Unnamed: 174|Unnamed: 175|Unnamed: 176|Unnamed: 177|\n",
      "+---+----------+-------------------+-------------------+-------------------+-----------+---+---+---------------+---+---+-----------+---+-----------------------------------------+--------------------------------------+-----------+-----------+-----------+-----------+-----------+-----------+-----------+-----------+-----------+-----------+-----------+-----------+---+--------------+-----------+---+---+----+---+---+---+---+---+---+-------------+-----------------------+---+---+--------------------+----------------------------------------------------------------------------+---+---+---+---+---+--------------+---+---+---+---+---+---+---+-----------+-----------+-----------+-----------+-----------+-----------+-----------+---+-----------+-----------+-----------+-----------+-----------+-----------+-----------+-----------+-----------+-----------+-----------+-----------+-----------+-----------+-----------+-----------+----+-----------+-----------+-----------+-----------+---+-----------+-----------+-----------+-----------+-----------+-----------+-----------+-----------+-----------+-----------+-------+-----------+-----------+------------+------------+------------+------------+------------+------------+------------+------------+------------+------------+------------+------------+------------+------------+------------+------------+------------+------------+------------+------------+------------+------+------------+------------+------------+------------+------------+------------+------------+------------+------------+------------+------------+------------+------------+------------+------------+------------+------------+------------+------------+------------+------------+------------+------------+------------+------------+------------+------------+------------+------------+------------+------------+------------+------------+------------+------------+------------+------------+------------+------------+------------+------------+------------+------------+------------+------------+------------+------------+------------+------------+------------+----+------------+------------+------------+------------+------------+\n",
      "|  0|1330642665|2012-03-01 14:57:45|5325504935867980089| 732128079555615205|FAS-2.8-AS3|  N|  0|   99.46.44.132|  1|  0|       null| 10|                     http://www.acme.c...|                  {97BA2E9D-EEF2-4F...|       null|       null|       null|       null|       null|       null|       null|       null|       null|       null|       null|       null|  U|         en-us|       null|589|  0|   0|  U|  U|  Y|  0|  0|304|sbcglobal.net|   1/2/2012 16:30:8 ...| 45|  2|                null|                                                        Mozilla/5.0 (Maci...| 71|  0| 29| 29|  0|        dallas|usa|623| tx|  0|  0|  0|  0|       null|       null|       null|       null|       null|       null|       null|  0|       null|       null|       null|       null|       null|       null|       null|       null|       null|       null|       null|       null|       null|       null|       null|       null|WFAA|       null|       null|       null|       null|  0|       null|       null|       null|       null|       null|       null|       null|       null|       null|       null|    120|       null|       null|        null|        null|        null|        null|        null|        null|        null|        null|        null|        null|        null|        null|        null|        null|        null|        null|        null|        null|        null|        null|        null|  WFAA|        null|        null|        null|        null|        null|        null|        null|        null|        null|        null|        null|        null|        null|        null|        null|        null|        null|        null|        null|        null|        null|        null|        null|        null|        null|        null|        null|        null|        null|        null|        null|        null|        null|        null|        null|        null|        null|        null|        null|        null|        null|        null|        null|        null|        null|        null|        null|        null|        null|        null|   0|        null|        null|        null|        null|        null|\n",
      "|  1|1330642307|2012-03-01 14:51:47|5325504935867980089| 732128079555615205|FAS-2.8-AS3|  N|  0|   99.46.44.132|  1|  0|       null| 10|                     http://www.acme.c...|                  {97BA2E9D-EEF2-4F...|       null|       null|       null|       null|       null|       null|       null|       null|       null|       null|       null|       null|  U|         en-us|       null|589|  0|   0|  U|  U|  Y|  0|  0|304|sbcglobal.net|   1/2/2012 16:30:8 ...| 45|  2|                null|                                                        Mozilla/5.0 (Maci...| 71|  0| 29| 27|  0|        dallas|usa|623| tx|  0|  0|  0|  0|       null|       null|       null|       null|       null|       null|       null|  0|       null|       null|       null|       null|       null|       null|       null|       null|       null|       null|       null|       null|       null|       null|       null|       null|WFAA|       null|       null|       null|       null|  0|       null|       null|       null|       null|       null|       null|       null|       null|       null|       null|239,120|       null|       null|        null|        null|        null|        null|        null|        null|        null|        null|        null|        null|        null|        null|        null|        null|        null|        null|        null|        null|        null|        null|        null|  WFAA|        null|        null|        null|        null|        null|        null|        null|        null|        null|        null|        null|        null|        null|        null|        null|        null|        null|        null|        null|        null|        null|        null|        null|        null|        null|        null|        null|        null|        null|        null|        null|        null|        null|        null|        null|        null|        null|        null|        null|        null|        null|        null|        null|        null|        null|        null|        null|        null|        null|        null|   0|        null|        null|        null|        null|        null|\n",
      "|  2|1330641684|2012-03-01 14:41:24|5325504935867980089| 732128079555615205|FAS-2.8-AS3|  N|  0|   99.46.44.132|  1|  0|       null| 10|                     http://www.acme.c...|                  {97BA2E9D-EEF2-4F...|       null|       null|       null|       null|       null|       null|       null|       null|       null|       null|       null|       null|  U|         en-us|       null|589|  0|   0|  U|  U|  Y|  0|  0|304|sbcglobal.net|   1/2/2012 16:30:8 ...| 45|  2|                null|                                                        Mozilla/5.0 (Maci...| 71|  0| 29| 25|  0|        dallas|usa|623| tx|  0|  0|  0|  0|       null|       null|       null|       null|       null|       null|       null|  0|       null|       null|       null|       null|       null|       null|       null|       null|       null|       null|       null|       null|       null|       null|       null|       null|WFAA|       null|       null|       null|       null|  0|       null|       null|       null|       null|       null|       null|       null|       null|       null|       null|239,120|       null|       null|        null|        null|        null|        null|        null|        null|        null|        null|        null|        null|        null|        null|        null|        null|        null|        null|        null|        null|        null|        null|        null|  WFAA|        null|        null|        null|        null|        null|        null|        null|        null|        null|        null|        null|        null|        null|        null|        null|        null|        null|        null|        null|        null|        null|        null|        null|        null|        null|        null|        null|        null|        null|        null|        null|        null|        null|        null|        null|        null|        null|        null|        null|        null|        null|        null|        null|        null|        null|        null|        null|        null|        null|        null|   0|        null|        null|        null|        null|        null|\n",
      "|  3|1330641354|2012-03-01 14:35:54|5325504935867980089| 732128079555615205|FAS-2.8-AS3|  N|  0|   99.46.44.132|  1|  0|       null| 10|                     http://www.acme.c...|                  {97BA2E9D-EEF2-4F...|       null|       null|       null|       null|       null|       null|       null|       null|       null|       null|       null|       null|  U|         en-us|       null|589|  0|   0|  U|  U|  Y|  0|  0|304|sbcglobal.net|   1/2/2012 16:30:8 ...| 45|  2|                null|                                                        Mozilla/5.0 (Maci...| 71|  0| 29| 21|  0|        dallas|usa|623| tx|  0|  0|  0|  0|       null|       null|       null|       null|       null|       null|       null|  0|       null|       null|       null|       null|       null|       null|       null|       null|       null|       null|       null|       null|       null|       null|       null|       null|WFAA|       null|       null|       null|       null|  0|       null|       null|       null|       null|       null|       null|       null|       null|       null|       null|    120|       null|       null|        null|        null|        null|        null|        null|        null|        null|        null|        null|        null|        null|        null|        null|        null|        null|        null|        null|        null|        null|        null|        null|  WFAA|        null|        null|        null|        null|        null|        null|        null|        null|        null|        null|        null|        null|        null|        null|        null|        null|        null|        null|        null|        null|        null|        null|        null|        null|        null|        null|        null|        null|        null|        null|        null|        null|        null|        null|        null|        null|        null|        null|        null|        null|        null|        null|        null|        null|        null|        null|        null|        null|        null|        null|   0|        null|        null|        null|        null|        null|\n",
      "|  4|1330641302|2012-03-01 14:35:02|5325504935867980089| 732128079555615205|FAS-2.8-AS3|  N|  0|   99.46.44.132|  1|  0|       null| 10|                     http://www.acme.c...|                  {97BA2E9D-EEF2-4F...|       null|       null|       null|       null|       null|       null|       null|       null|       null|       null|       null|       null|  U|         en-us|       null|589|  0|   0|  U|  U|  Y|  0|  0|304|sbcglobal.net|   1/2/2012 16:30:8 ...| 45|  2|                null|                                                        Mozilla/5.0 (Maci...| 71|  0| 29| 20|  0|        dallas|usa|623| tx|  0|  0|  0|  0|       null|       null|       null|       null|       null|       null|       null|  0|       null|       null|       null|       null|       null|       null|       null|       null|       null|       null|       null|       null|       null|       null|       null|       null|WFAA|       null|       null|       null|       null|  0|       null|       null|       null|       null|       null|       null|       null|       null|       null|       null|    120|       null|       null|        null|        null|        null|        null|        null|        null|        null|        null|        null|        null|        null|        null|        null|        null|        null|        null|        null|        null|        null|        null|        null|  WFAA|        null|        null|        null|        null|        null|        null|        null|        null|        null|        null|        null|        null|        null|        null|        null|        null|        null|        null|        null|        null|        null|        null|        null|        null|        null|        null|        null|        null|        null|        null|        null|        null|        null|        null|        null|        null|        null|        null|        null|        null|        null|        null|        null|        null|        null|        null|        null|        null|        null|        null|   0|        null|        null|        null|        null|        null|\n",
      "|  5|1330641272|2012-03-01 14:34:32|5325504935867980089| 732128079555615205|FAS-2.8-AS3|  N|  0|   99.46.44.132|  1|  0|       null| 10|                     http://www.acme.c...|                  {97BA2E9D-EEF2-4F...|       null|       null|       null|       null|       null|       null|       null|       null|       null|       null|       null|       null|  U|         en-us|       null|589|  0|   0|  U|  U|  Y|  0|  0|304|sbcglobal.net|   1/2/2012 16:30:8 ...| 45|  2|                null|                                                        Mozilla/5.0 (Maci...| 71|  0| 29| 18|  0|        dallas|usa|623| tx|  0|  0|  0|  0|       null|       null|       null|       null|       null|       null|       null|  0|       null|       null|       null|       null|       null|       null|       null|       null|       null|       null|       null|       null|       null|       null|       null|       null|WFAA|       null|       null|       null|       null|  0|       null|       null|       null|       null|       null|       null|       null|       null|       null|       null|212,120|       null|       null|        null|        null|        null|        null|        null|        null|        null|        null|        null|        null|        null|        null|        null|        null|        null|        null|        null|        null|        null|        null|        null|  WFAA|        null|        null|        null|        null|        null|        null|        null|        null|        null|        null|        null|        null|        null|        null|        null|        null|        null|        null|        null|        null|        null|        null|        null|        null|        null|        null|        null|        null|        null|        null|        null|        null|        null|        null|        null|        null|        null|        null|        null|        null|        null|        null|        null|        null|        null|        null|        null|        null|        null|        null|   0|        null|        null|        null|        null|        null|\n",
      "|  6|1330641219|2012-03-01 14:33:39|5325504935867980089| 732128079555615205|FAS-2.8-AS3|  N|  0|   99.46.44.132|  1|  0|       null| 10|                     http://www.acme.c...|                  {97BA2E9D-EEF2-4F...|       null|       null|       null|       null|       null|       null|       null|       null|       null|       null|       null|       null|  U|         en-us|       null|589|  0|   0|  U|  U|  Y|  0|  0|304|sbcglobal.net|   1/2/2012 16:30:8 ...| 45|  2|                null|                                                        Mozilla/5.0 (Maci...| 71|  0| 29| 13|  0|        dallas|usa|623| tx|  0|  0|  0|  0|       null|       null|       null|       null|       null|       null|       null|  0|       null|       null|       null|       null|       null|       null|       null|       null|       null|       null|       null|       null|       null|       null|       null|       null|WFAA|       null|       null|       null|       null|  0|       null|       null|       null|       null|       null|       null|       null|       null|       null|       null|212,120|       null|       null|        null|        null|        null|        null|        null|        null|        null|        null|        null|        null|        null|        null|        null|        null|        null|        null|        null|        null|        null|        null|        null|  WFAA|        null|        null|        null|        null|        null|        null|        null|        null|        null|        null|        null|        null|        null|        null|        null|        null|        null|        null|        null|        null|        null|        null|        null|        null|        null|        null|        null|        null|        null|        null|        null|        null|        null|        null|        null|        null|        null|        null|        null|        null|        null|        null|        null|        null|        null|        null|        null|        null|        null|        null|   0|        null|        null|        null|        null|        null|\n",
      "|  7|1330635765|2012-03-01 13:02:45|2768829104290604354|4611687141025243051|FAS-2.8-AS3|  N|  0|  98.155.49.183|  1|  0|       null| 10|                     http://www.acme.c...|                  {9259CC6D-0ADF-43...|       null|       null|       null|       null|       null|       null|       null|       null|       null|       null|       null|       null|  U|en-us,en;q=0.5|       null|510|830|1680|  Y|  Y|  Y|  1|  0|300|       rr.com|   1/2/2012 11:54:29...| 45| 31|00011,10002,00007...|                                                        Mozilla/5.0 (Wind...|180|  0| 70| 65|  0|     san diego|usa|825| ca|  0|  0|  0|  0|       null|       null|       null|       null|       null|       null|       null|  0|       null|       null|       null|       null|       null|       null|       null|       null|       null|       null|       null|       null|       null|       null|       null|       null|KGTV|       null|       null|       null|       null|  0|       null|       null|       null|       null|       null|       null|       null|       null|       null|       null|    120|       null|       null|        null|        null|        null|        null|        null|        null|        null|        null|        null|        null|        null|        null|        null|        null|        null|        null|        null|        null|        null|        null|        null|  KGTV|        null|        null|        null|        null|        null|        null|        null|        null|        null|        null|        null|        null|        null|        null|        null|        null|        null|        null|        null|        null|        null|        null|        null|        null|        null|        null|        null|        null|        null|        null|        null|        null|        null|        null|        null|        null|        null|        null|        null|        null|        null|        null|        null|        null|        null|        null|        null|        null|        null|        null|   0|        null|        null|        null|        null|        null|\n",
      "|  8|1330636691|2012-03-01 13:18:11|2768829104290604354|4611687141025243051|FAS-2.8-AS3|  N|  0|  98.155.49.183|  1|  0|       null| 10|                     http://www.acme.c...|                  {9259CC6D-0ADF-43...|       null|       null|       null|       null|       null|       null|       null|       null|       null|       null|       null|       null|  U|en-us,en;q=0.5|       null|510|830|1680|  Y|  Y|  Y|  1|  0|300|       rr.com|   1/2/2012 11:54:29...| 45| 31|00011,10002,00007...|                                                        Mozilla/5.0 (Wind...|180|  0| 70| 74|  0|     san diego|usa|825| ca|  0|  0|  0|  0|       null|       null|       null|       null|       null|       null|       null|  0|       null|       null|       null|       null|       null|       null|       null|       null|       null|       null|       null|       null|       null|       null|       null|       null|KGTV|       null|       null|       null|       null|  0|       null|       null|       null|       null|       null|       null|       null|       null|       null|       null|    120|       null|       null|        null|        null|        null|        null|        null|        null|        null|        null|        null|        null|        null|        null|        null|        null|        null|        null|        null|        null|        null|        null|        null|  KGTV|        null|        null|        null|        null|        null|        null|        null|        null|        null|        null|        null|        null|        null|        null|        null|        null|        null|        null|        null|        null|        null|        null|        null|        null|        null|        null|        null|        null|        null|        null|        null|        null|        null|        null|        null|        null|        null|        null|        null|        null|        null|        null|        null|        null|        null|        null|        null|        null|        null|        null|   0|        null|        null|        null|        null|        null|\n",
      "|  9|1330638972|2012-03-01 13:56:12|2771408051764569477|6917530611412532533|FAS-2.8-AS3|  N|  0|  76.174.52.116|  1|  0|       null| 10|                     http://www.acme.c...|                  {C5A0935A-A910-46...|       null|       null|       null|       null|       null|       null|       null|       null|       null|       null|       null|       null|  U|         en-US|       null|497|729|1045|  Y|  Y|  Y|  1|  2|300|       rr.com|   1/2/2012 12:46:53...| 45| 41|                null|                                                        Mozilla/4.0 (comp...| 70|  0| 19| 56|  0|woodland hills|usa|803| ca|  0|  0|  0|  0|       null|       null|       null|       null|       null|       null|       null|  0|       null|       null|       null|       null|       null|       null|       null|       null|       null|       null|       null|       null|       null|       null|       null|       null|KABC|       null|       null|       null|       null|  0|       null|       null|       null|       null|       null|       null|       null|       null|       null|       null|    120|       null|       null|        null|        null|        null|        null|        null|        null|        null|        null|        null|        null|        null|        null|        null|        null|        null|        null|        null|        null|        null|        null|        null|  KABC|        null|        null|        null|        null|        null|        null|        null|        null|        null|        null|        null|        null|        null|        null|        null|        null|        null|        null|        null|        null|        null|        null|        null|        null|        null|        null|        null|        null|        null|        null|        null|        null|        null|        null|        null|        null|        null|        null|        null|        null|        null|        null|        null|        null|        null|        null|        null|        null|        null|        null|   0|        null|        null|        null|        null|        null|\n",
      "+---+----------+-------------------+-------------------+-------------------+-----------+---+---+---------------+---+---+-----------+---+-----------------------------------------+--------------------------------------+-----------+-----------+-----------+-----------+-----------+-----------+-----------+-----------+-----------+-----------+-----------+-----------+---+--------------+-----------+---+---+----+---+---+---+---+---+---+-------------+-----------------------+---+---+--------------------+----------------------------------------------------------------------------+---+---+---+---+---+--------------+---+---+---+---+---+---+---+-----------+-----------+-----------+-----------+-----------+-----------+-----------+---+-----------+-----------+-----------+-----------+-----------+-----------+-----------+-----------+-----------+-----------+-----------+-----------+-----------+-----------+-----------+-----------+----+-----------+-----------+-----------+-----------+---+-----------+-----------+-----------+-----------+-----------+-----------+-----------+-----------+-----------+-----------+-------+-----------+-----------+------------+------------+------------+------------+------------+------------+------------+------------+------------+------------+------------+------------+------------+------------+------------+------------+------------+------------+------------+------------+------------+------+------------+------------+------------+------------+------------+------------+------------+------------+------------+------------+------------+------------+------------+------------+------------+------------+------------+------------+------------+------------+------------+------------+------------+------------+------------+------------+------------+------------+------------+------------+------------+------------+------------+------------+------------+------------+------------+------------+------------+------------+------------+------------+------------+------------+------------+------------+------------+------------+------------+------------+----+------------+------------+------------+------------+------------+\n",
      "only showing top 10 rows\n",
      "\n"
     ]
    }
   ],
   "source": [
    "df2.show(10)"
   ]
  },
  {
   "cell_type": "code",
   "execution_count": 349,
   "metadata": {},
   "outputs": [],
   "source": [
    "# creating default coulmns names as the table doesnt has coulmn names \n",
    "columns=[\"col\"+str(i) for i in range(len(df2.columns))]"
   ]
  },
  {
   "cell_type": "code",
   "execution_count": 350,
   "metadata": {},
   "outputs": [],
   "source": [
    "df3 = df2.toDF(*columns)"
   ]
  },
  {
   "cell_type": "code",
   "execution_count": 351,
   "metadata": {},
   "outputs": [
    {
     "data": {
      "text/plain": [
       "pyspark.sql.dataframe.DataFrame"
      ]
     },
     "execution_count": 351,
     "metadata": {},
     "output_type": "execute_result"
    }
   ],
   "source": [
    "type(df3)"
   ]
  },
  {
   "cell_type": "code",
   "execution_count": 352,
   "metadata": {},
   "outputs": [],
   "source": [
    "# deleting first column( col0) as it has been repeated with col1 for better exicution\n",
    "df4 = df3.drop(\"col0\")"
   ]
  },
  {
   "cell_type": "code",
   "execution_count": 353,
   "metadata": {},
   "outputs": [
    {
     "name": "stdout",
     "output_type": "stream",
     "text": [
      "+----------+-------------------+-------------------+-------------------+-----------+----+----+---------------+----+-----+-----------+-----+--------------------+--------------------+-----------+-----------+-----------+-----------+-----------+-----------+-----------+-----------+-----------+-----------+-----------+-----------+-----+--------------+-----------+-----+-----+-----+-----+-----+-----+-----+-----+-----+--------------+--------------------+-----+-----+--------------------+--------------------+-----+-----+-----+-----+-----+--------------+-----+-----+-----+-----+-----+-----+-----+-----------+-----------+-----------+-----------+-----------+-----------+-----------+-----+-----------+-----------+-----------+-----------+-----------+-----------+-----------+-----------+-----------+-----------+-----------+-----------+-----------+-----------+-----------+-----------+-----+-----------+-----------+-----------+-----------+-----+-----------+-----------+-----------+-----------+-----------+-----------+-----------+-----------+-----------+-----------+-------+-----------+-----------+------------+------------+------------+------------+------------+------------+------------+------------+------------+------------+------------+------------+------------+------------+------------+------------+------------+------------+------------+------------+------------+------+------------+------------+------------+------------+------------+------------+------------+------------+------------+------------+------------+------------+------------+------------+------------+------------+------------+------------+------------+------------+------------+------------+------------+------------+------------+------------+------------+------------+------------+------------+------------+------------+------------+------------+------------+------------+------------+------------+------------+------------+------------+------------+------------+------------+------------+------------+------------+------------+------------+------------+------+------------+------------+------------+------------+------------+\n",
      "|      col1|               col2|               col3|               col4|       col5|col6|col7|           col8|col9|col10|      col11|col12|               col13|               col14|      col15|      col16|      col17|      col18|      col19|      col20|      col21|      col22|      col23|      col24|      col25|      col26|col27|         col28|      col29|col30|col31|col32|col33|col34|col35|col36|col37|col38|         col39|               col40|col41|col42|               col43|               col44|col45|col46|col47|col48|col49|         col50|col51|col52|col53|col54|col55|col56|col57|      col58|      col59|      col60|      col61|      col62|      col63|      col64|col65|      col66|      col67|      col68|      col69|      col70|      col71|      col72|      col73|      col74|      col75|      col76|      col77|      col78|      col79|      col80|      col81|col82|      col83|      col84|      col85|      col86|col87|      col88|      col89|      col90|      col91|      col92|      col93|      col94|      col95|      col96|      col97|  col98|      col99|     col100|      col101|      col102|      col103|      col104|      col105|      col106|      col107|      col108|      col109|      col110|      col111|      col112|      col113|      col114|      col115|      col116|      col117|      col118|      col119|      col120|      col121|col122|      col123|      col124|      col125|      col126|      col127|      col128|      col129|      col130|      col131|      col132|      col133|      col134|      col135|      col136|      col137|      col138|      col139|      col140|      col141|      col142|      col143|      col144|      col145|      col146|      col147|      col148|      col149|      col150|      col151|      col152|      col153|      col154|      col155|      col156|      col157|      col158|      col159|      col160|      col161|      col162|      col163|      col164|      col165|      col166|      col167|      col168|      col169|      col170|      col171|      col172|col173|      col174|      col175|      col176|      col177|      col178|\n",
      "+----------+-------------------+-------------------+-------------------+-----------+----+----+---------------+----+-----+-----------+-----+--------------------+--------------------+-----------+-----------+-----------+-----------+-----------+-----------+-----------+-----------+-----------+-----------+-----------+-----------+-----+--------------+-----------+-----+-----+-----+-----+-----+-----+-----+-----+-----+--------------+--------------------+-----+-----+--------------------+--------------------+-----+-----+-----+-----+-----+--------------+-----+-----+-----+-----+-----+-----+-----+-----------+-----------+-----------+-----------+-----------+-----------+-----------+-----+-----------+-----------+-----------+-----------+-----------+-----------+-----------+-----------+-----------+-----------+-----------+-----------+-----------+-----------+-----------+-----------+-----+-----------+-----------+-----------+-----------+-----+-----------+-----------+-----------+-----------+-----------+-----------+-----------+-----------+-----------+-----------+-------+-----------+-----------+------------+------------+------------+------------+------------+------------+------------+------------+------------+------------+------------+------------+------------+------------+------------+------------+------------+------------+------------+------------+------------+------+------------+------------+------------+------------+------------+------------+------------+------------+------------+------------+------------+------------+------------+------------+------------+------------+------------+------------+------------+------------+------------+------------+------------+------------+------------+------------+------------+------------+------------+------------+------------+------------+------------+------------+------------+------------+------------+------------+------------+------------+------------+------------+------------+------------+------------+------------+------------+------------+------------+------------+------+------------+------------+------------+------------+------------+\n",
      "|1330641957|2012-03-01 14:45:57|2850314080676293389|4611687159819725987|FAS-2.8-AS3|   N|   0|108.217.237.145|   1|  0.1|Unnamed: 10|   10|http://www.acme.c...|{6BB42667-22A2-49...|Unnamed: 14|Unnamed: 15|Unnamed: 16|Unnamed: 17|Unnamed: 18|Unnamed: 19|Unnamed: 20|Unnamed: 21|Unnamed: 22|Unnamed: 23|Unnamed: 24|Unnamed: 25|    U|en-us,en;q=0.5|Unnamed: 28|  591|  977| 1920|    Y|  Y.1|  Y.2|    2|  0.2|  304| sbcglobal.net|1/2/2012 17:26:36...|   45|   41|   10020,00007,00011|Mozilla/5.0 (Wind...|  179|   57|   34|   19|  0.3|       meriden|  usa|  533|   ct|  0.4|  0.5|  0.6|  0.7|Unnamed: 57|Unnamed: 58|Unnamed: 59|Unnamed: 60|Unnamed: 61|Unnamed: 62|Unnamed: 63|  0.8|Unnamed: 65|Unnamed: 66|Unnamed: 67|Unnamed: 68|Unnamed: 69|Unnamed: 70|Unnamed: 71|Unnamed: 72|Unnamed: 73|Unnamed: 74|Unnamed: 75|Unnamed: 76|Unnamed: 77|Unnamed: 78|Unnamed: 79|Unnamed: 80| WTNH|Unnamed: 82|Unnamed: 83|Unnamed: 84|Unnamed: 85|  0.9|Unnamed: 87|Unnamed: 88|Unnamed: 89|Unnamed: 90|Unnamed: 91|Unnamed: 92|Unnamed: 93|Unnamed: 94|Unnamed: 95|Unnamed: 96|    120|Unnamed: 98|Unnamed: 99|Unnamed: 100|Unnamed: 101|Unnamed: 102|Unnamed: 103|Unnamed: 104|Unnamed: 105|Unnamed: 106|Unnamed: 107|Unnamed: 108|Unnamed: 109|Unnamed: 110|Unnamed: 111|Unnamed: 112|Unnamed: 113|Unnamed: 114|Unnamed: 115|Unnamed: 116|Unnamed: 117|Unnamed: 118|Unnamed: 119|Unnamed: 120|WTNH.1|Unnamed: 122|Unnamed: 123|Unnamed: 124|Unnamed: 125|Unnamed: 126|Unnamed: 127|Unnamed: 128|Unnamed: 129|Unnamed: 130|Unnamed: 131|Unnamed: 132|Unnamed: 133|Unnamed: 134|Unnamed: 135|Unnamed: 136|Unnamed: 137|Unnamed: 138|Unnamed: 139|Unnamed: 140|Unnamed: 141|Unnamed: 142|Unnamed: 143|Unnamed: 144|Unnamed: 145|Unnamed: 146|Unnamed: 147|Unnamed: 148|Unnamed: 149|Unnamed: 150|Unnamed: 151|Unnamed: 152|Unnamed: 153|Unnamed: 154|Unnamed: 155|Unnamed: 156|Unnamed: 157|Unnamed: 158|Unnamed: 159|Unnamed: 160|Unnamed: 161|Unnamed: 162|Unnamed: 163|Unnamed: 164|Unnamed: 165|Unnamed: 166|Unnamed: 167|Unnamed: 168|Unnamed: 169|Unnamed: 170|Unnamed: 171|  0.10|Unnamed: 173|Unnamed: 174|Unnamed: 175|Unnamed: 176|Unnamed: 177|\n",
      "|1330642665|2012-03-01 14:57:45|5325504935867980089| 732128079555615205|FAS-2.8-AS3|   N|   0|   99.46.44.132|   1|    0|       null|   10|http://www.acme.c...|{97BA2E9D-EEF2-4F...|       null|       null|       null|       null|       null|       null|       null|       null|       null|       null|       null|       null|    U|         en-us|       null|  589|    0|    0|    U|    U|    Y|    0|    0|  304| sbcglobal.net|1/2/2012 16:30:8 ...|   45|    2|                null|Mozilla/5.0 (Maci...|   71|    0|   29|   29|    0|        dallas|  usa|  623|   tx|    0|    0|    0|    0|       null|       null|       null|       null|       null|       null|       null|    0|       null|       null|       null|       null|       null|       null|       null|       null|       null|       null|       null|       null|       null|       null|       null|       null| WFAA|       null|       null|       null|       null|    0|       null|       null|       null|       null|       null|       null|       null|       null|       null|       null|    120|       null|       null|        null|        null|        null|        null|        null|        null|        null|        null|        null|        null|        null|        null|        null|        null|        null|        null|        null|        null|        null|        null|        null|  WFAA|        null|        null|        null|        null|        null|        null|        null|        null|        null|        null|        null|        null|        null|        null|        null|        null|        null|        null|        null|        null|        null|        null|        null|        null|        null|        null|        null|        null|        null|        null|        null|        null|        null|        null|        null|        null|        null|        null|        null|        null|        null|        null|        null|        null|        null|        null|        null|        null|        null|        null|     0|        null|        null|        null|        null|        null|\n",
      "|1330642307|2012-03-01 14:51:47|5325504935867980089| 732128079555615205|FAS-2.8-AS3|   N|   0|   99.46.44.132|   1|    0|       null|   10|http://www.acme.c...|{97BA2E9D-EEF2-4F...|       null|       null|       null|       null|       null|       null|       null|       null|       null|       null|       null|       null|    U|         en-us|       null|  589|    0|    0|    U|    U|    Y|    0|    0|  304| sbcglobal.net|1/2/2012 16:30:8 ...|   45|    2|                null|Mozilla/5.0 (Maci...|   71|    0|   29|   27|    0|        dallas|  usa|  623|   tx|    0|    0|    0|    0|       null|       null|       null|       null|       null|       null|       null|    0|       null|       null|       null|       null|       null|       null|       null|       null|       null|       null|       null|       null|       null|       null|       null|       null| WFAA|       null|       null|       null|       null|    0|       null|       null|       null|       null|       null|       null|       null|       null|       null|       null|239,120|       null|       null|        null|        null|        null|        null|        null|        null|        null|        null|        null|        null|        null|        null|        null|        null|        null|        null|        null|        null|        null|        null|        null|  WFAA|        null|        null|        null|        null|        null|        null|        null|        null|        null|        null|        null|        null|        null|        null|        null|        null|        null|        null|        null|        null|        null|        null|        null|        null|        null|        null|        null|        null|        null|        null|        null|        null|        null|        null|        null|        null|        null|        null|        null|        null|        null|        null|        null|        null|        null|        null|        null|        null|        null|        null|     0|        null|        null|        null|        null|        null|\n",
      "|1330641684|2012-03-01 14:41:24|5325504935867980089| 732128079555615205|FAS-2.8-AS3|   N|   0|   99.46.44.132|   1|    0|       null|   10|http://www.acme.c...|{97BA2E9D-EEF2-4F...|       null|       null|       null|       null|       null|       null|       null|       null|       null|       null|       null|       null|    U|         en-us|       null|  589|    0|    0|    U|    U|    Y|    0|    0|  304| sbcglobal.net|1/2/2012 16:30:8 ...|   45|    2|                null|Mozilla/5.0 (Maci...|   71|    0|   29|   25|    0|        dallas|  usa|  623|   tx|    0|    0|    0|    0|       null|       null|       null|       null|       null|       null|       null|    0|       null|       null|       null|       null|       null|       null|       null|       null|       null|       null|       null|       null|       null|       null|       null|       null| WFAA|       null|       null|       null|       null|    0|       null|       null|       null|       null|       null|       null|       null|       null|       null|       null|239,120|       null|       null|        null|        null|        null|        null|        null|        null|        null|        null|        null|        null|        null|        null|        null|        null|        null|        null|        null|        null|        null|        null|        null|  WFAA|        null|        null|        null|        null|        null|        null|        null|        null|        null|        null|        null|        null|        null|        null|        null|        null|        null|        null|        null|        null|        null|        null|        null|        null|        null|        null|        null|        null|        null|        null|        null|        null|        null|        null|        null|        null|        null|        null|        null|        null|        null|        null|        null|        null|        null|        null|        null|        null|        null|        null|     0|        null|        null|        null|        null|        null|\n",
      "|1330641354|2012-03-01 14:35:54|5325504935867980089| 732128079555615205|FAS-2.8-AS3|   N|   0|   99.46.44.132|   1|    0|       null|   10|http://www.acme.c...|{97BA2E9D-EEF2-4F...|       null|       null|       null|       null|       null|       null|       null|       null|       null|       null|       null|       null|    U|         en-us|       null|  589|    0|    0|    U|    U|    Y|    0|    0|  304| sbcglobal.net|1/2/2012 16:30:8 ...|   45|    2|                null|Mozilla/5.0 (Maci...|   71|    0|   29|   21|    0|        dallas|  usa|  623|   tx|    0|    0|    0|    0|       null|       null|       null|       null|       null|       null|       null|    0|       null|       null|       null|       null|       null|       null|       null|       null|       null|       null|       null|       null|       null|       null|       null|       null| WFAA|       null|       null|       null|       null|    0|       null|       null|       null|       null|       null|       null|       null|       null|       null|       null|    120|       null|       null|        null|        null|        null|        null|        null|        null|        null|        null|        null|        null|        null|        null|        null|        null|        null|        null|        null|        null|        null|        null|        null|  WFAA|        null|        null|        null|        null|        null|        null|        null|        null|        null|        null|        null|        null|        null|        null|        null|        null|        null|        null|        null|        null|        null|        null|        null|        null|        null|        null|        null|        null|        null|        null|        null|        null|        null|        null|        null|        null|        null|        null|        null|        null|        null|        null|        null|        null|        null|        null|        null|        null|        null|        null|     0|        null|        null|        null|        null|        null|\n",
      "|1330641302|2012-03-01 14:35:02|5325504935867980089| 732128079555615205|FAS-2.8-AS3|   N|   0|   99.46.44.132|   1|    0|       null|   10|http://www.acme.c...|{97BA2E9D-EEF2-4F...|       null|       null|       null|       null|       null|       null|       null|       null|       null|       null|       null|       null|    U|         en-us|       null|  589|    0|    0|    U|    U|    Y|    0|    0|  304| sbcglobal.net|1/2/2012 16:30:8 ...|   45|    2|                null|Mozilla/5.0 (Maci...|   71|    0|   29|   20|    0|        dallas|  usa|  623|   tx|    0|    0|    0|    0|       null|       null|       null|       null|       null|       null|       null|    0|       null|       null|       null|       null|       null|       null|       null|       null|       null|       null|       null|       null|       null|       null|       null|       null| WFAA|       null|       null|       null|       null|    0|       null|       null|       null|       null|       null|       null|       null|       null|       null|       null|    120|       null|       null|        null|        null|        null|        null|        null|        null|        null|        null|        null|        null|        null|        null|        null|        null|        null|        null|        null|        null|        null|        null|        null|  WFAA|        null|        null|        null|        null|        null|        null|        null|        null|        null|        null|        null|        null|        null|        null|        null|        null|        null|        null|        null|        null|        null|        null|        null|        null|        null|        null|        null|        null|        null|        null|        null|        null|        null|        null|        null|        null|        null|        null|        null|        null|        null|        null|        null|        null|        null|        null|        null|        null|        null|        null|     0|        null|        null|        null|        null|        null|\n",
      "|1330641272|2012-03-01 14:34:32|5325504935867980089| 732128079555615205|FAS-2.8-AS3|   N|   0|   99.46.44.132|   1|    0|       null|   10|http://www.acme.c...|{97BA2E9D-EEF2-4F...|       null|       null|       null|       null|       null|       null|       null|       null|       null|       null|       null|       null|    U|         en-us|       null|  589|    0|    0|    U|    U|    Y|    0|    0|  304| sbcglobal.net|1/2/2012 16:30:8 ...|   45|    2|                null|Mozilla/5.0 (Maci...|   71|    0|   29|   18|    0|        dallas|  usa|  623|   tx|    0|    0|    0|    0|       null|       null|       null|       null|       null|       null|       null|    0|       null|       null|       null|       null|       null|       null|       null|       null|       null|       null|       null|       null|       null|       null|       null|       null| WFAA|       null|       null|       null|       null|    0|       null|       null|       null|       null|       null|       null|       null|       null|       null|       null|212,120|       null|       null|        null|        null|        null|        null|        null|        null|        null|        null|        null|        null|        null|        null|        null|        null|        null|        null|        null|        null|        null|        null|        null|  WFAA|        null|        null|        null|        null|        null|        null|        null|        null|        null|        null|        null|        null|        null|        null|        null|        null|        null|        null|        null|        null|        null|        null|        null|        null|        null|        null|        null|        null|        null|        null|        null|        null|        null|        null|        null|        null|        null|        null|        null|        null|        null|        null|        null|        null|        null|        null|        null|        null|        null|        null|     0|        null|        null|        null|        null|        null|\n",
      "|1330641219|2012-03-01 14:33:39|5325504935867980089| 732128079555615205|FAS-2.8-AS3|   N|   0|   99.46.44.132|   1|    0|       null|   10|http://www.acme.c...|{97BA2E9D-EEF2-4F...|       null|       null|       null|       null|       null|       null|       null|       null|       null|       null|       null|       null|    U|         en-us|       null|  589|    0|    0|    U|    U|    Y|    0|    0|  304| sbcglobal.net|1/2/2012 16:30:8 ...|   45|    2|                null|Mozilla/5.0 (Maci...|   71|    0|   29|   13|    0|        dallas|  usa|  623|   tx|    0|    0|    0|    0|       null|       null|       null|       null|       null|       null|       null|    0|       null|       null|       null|       null|       null|       null|       null|       null|       null|       null|       null|       null|       null|       null|       null|       null| WFAA|       null|       null|       null|       null|    0|       null|       null|       null|       null|       null|       null|       null|       null|       null|       null|212,120|       null|       null|        null|        null|        null|        null|        null|        null|        null|        null|        null|        null|        null|        null|        null|        null|        null|        null|        null|        null|        null|        null|        null|  WFAA|        null|        null|        null|        null|        null|        null|        null|        null|        null|        null|        null|        null|        null|        null|        null|        null|        null|        null|        null|        null|        null|        null|        null|        null|        null|        null|        null|        null|        null|        null|        null|        null|        null|        null|        null|        null|        null|        null|        null|        null|        null|        null|        null|        null|        null|        null|        null|        null|        null|        null|     0|        null|        null|        null|        null|        null|\n",
      "|1330635765|2012-03-01 13:02:45|2768829104290604354|4611687141025243051|FAS-2.8-AS3|   N|   0|  98.155.49.183|   1|    0|       null|   10|http://www.acme.c...|{9259CC6D-0ADF-43...|       null|       null|       null|       null|       null|       null|       null|       null|       null|       null|       null|       null|    U|en-us,en;q=0.5|       null|  510|  830| 1680|    Y|    Y|    Y|    1|    0|  300|        rr.com|1/2/2012 11:54:29...|   45|   31|00011,10002,00007...|Mozilla/5.0 (Wind...|  180|    0|   70|   65|    0|     san diego|  usa|  825|   ca|    0|    0|    0|    0|       null|       null|       null|       null|       null|       null|       null|    0|       null|       null|       null|       null|       null|       null|       null|       null|       null|       null|       null|       null|       null|       null|       null|       null| KGTV|       null|       null|       null|       null|    0|       null|       null|       null|       null|       null|       null|       null|       null|       null|       null|    120|       null|       null|        null|        null|        null|        null|        null|        null|        null|        null|        null|        null|        null|        null|        null|        null|        null|        null|        null|        null|        null|        null|        null|  KGTV|        null|        null|        null|        null|        null|        null|        null|        null|        null|        null|        null|        null|        null|        null|        null|        null|        null|        null|        null|        null|        null|        null|        null|        null|        null|        null|        null|        null|        null|        null|        null|        null|        null|        null|        null|        null|        null|        null|        null|        null|        null|        null|        null|        null|        null|        null|        null|        null|        null|        null|     0|        null|        null|        null|        null|        null|\n",
      "|1330636691|2012-03-01 13:18:11|2768829104290604354|4611687141025243051|FAS-2.8-AS3|   N|   0|  98.155.49.183|   1|    0|       null|   10|http://www.acme.c...|{9259CC6D-0ADF-43...|       null|       null|       null|       null|       null|       null|       null|       null|       null|       null|       null|       null|    U|en-us,en;q=0.5|       null|  510|  830| 1680|    Y|    Y|    Y|    1|    0|  300|        rr.com|1/2/2012 11:54:29...|   45|   31|00011,10002,00007...|Mozilla/5.0 (Wind...|  180|    0|   70|   74|    0|     san diego|  usa|  825|   ca|    0|    0|    0|    0|       null|       null|       null|       null|       null|       null|       null|    0|       null|       null|       null|       null|       null|       null|       null|       null|       null|       null|       null|       null|       null|       null|       null|       null| KGTV|       null|       null|       null|       null|    0|       null|       null|       null|       null|       null|       null|       null|       null|       null|       null|    120|       null|       null|        null|        null|        null|        null|        null|        null|        null|        null|        null|        null|        null|        null|        null|        null|        null|        null|        null|        null|        null|        null|        null|  KGTV|        null|        null|        null|        null|        null|        null|        null|        null|        null|        null|        null|        null|        null|        null|        null|        null|        null|        null|        null|        null|        null|        null|        null|        null|        null|        null|        null|        null|        null|        null|        null|        null|        null|        null|        null|        null|        null|        null|        null|        null|        null|        null|        null|        null|        null|        null|        null|        null|        null|        null|     0|        null|        null|        null|        null|        null|\n",
      "|1330638972|2012-03-01 13:56:12|2771408051764569477|6917530611412532533|FAS-2.8-AS3|   N|   0|  76.174.52.116|   1|    0|       null|   10|http://www.acme.c...|{C5A0935A-A910-46...|       null|       null|       null|       null|       null|       null|       null|       null|       null|       null|       null|       null|    U|         en-US|       null|  497|  729| 1045|    Y|    Y|    Y|    1|    2|  300|        rr.com|1/2/2012 12:46:53...|   45|   41|                null|Mozilla/4.0 (comp...|   70|    0|   19|   56|    0|woodland hills|  usa|  803|   ca|    0|    0|    0|    0|       null|       null|       null|       null|       null|       null|       null|    0|       null|       null|       null|       null|       null|       null|       null|       null|       null|       null|       null|       null|       null|       null|       null|       null| KABC|       null|       null|       null|       null|    0|       null|       null|       null|       null|       null|       null|       null|       null|       null|       null|    120|       null|       null|        null|        null|        null|        null|        null|        null|        null|        null|        null|        null|        null|        null|        null|        null|        null|        null|        null|        null|        null|        null|        null|  KABC|        null|        null|        null|        null|        null|        null|        null|        null|        null|        null|        null|        null|        null|        null|        null|        null|        null|        null|        null|        null|        null|        null|        null|        null|        null|        null|        null|        null|        null|        null|        null|        null|        null|        null|        null|        null|        null|        null|        null|        null|        null|        null|        null|        null|        null|        null|        null|        null|        null|        null|     0|        null|        null|        null|        null|        null|\n",
      "|1330635879|2012-03-01 13:04:39|2777955789535522167|6917530185672144965|FAS-2.8-AS3|   N|   0|  67.78.113.169|   1|    0|       null|   10|http://www.acme.c...|{F7F312F8-6BAE-4B...|       null|       null|       null|       null|       null|       null|       null|       null|       null|       null|       null|       null|    U|         en-US|       null|  537|  608| 1396|    Y|    Y|    Y|    2|    2|  300|        rr.com|1/2/2012 14:37:20...|   45|   41|                null|Mozilla/5.0 (comp...|    0|    0|    5|   18|    0|       bastrop|  usa|  635|   tx|    0|    0|    1|    0|       null|       null|       null|       null|       null|       null|       null|    0|       null|       null|       null|       null|       null|       null|       null|       null|       null|       null|       null|       null|       null|       null|       null|       null| KVUE|       null|       null|       null|       null|    0|       null|       null|       null|       null|       null|       null|       null|       null|       null|       null|    120|       null|       null|        null|        null|        null|        null|        null|        null|        null|        null|        null|        null|        null|        null|        null|        null|        null|        null|        null|        null|        null|        null|        null|  KVUE|        null|        null|        null|        null|        null|        null|        null|        null|        null|        null|        null|        null|        null|        null|        null|        null|        null|        null|        null|        null|        null|        null|        null|        null|        null|        null|        null|        null|        null|        null|        null|        null|        null|        null|        null|        null|        null|        null|        null|        null|        null|        null|        null|        null|        null|        null|        null|        null|        null|        null|     0|        null|        null|        null|        null|        null|\n",
      "|1330636364|2012-03-01 13:12:44|2777955789535522167|6917530185672144965|FAS-2.8-AS3|   N|   0|  67.78.113.169|   1|    0|       null|   10|http://www.acme.c...|{F7F312F8-6BAE-4B...|       null|       null|       null|       null|       null|       null|       null|       null|       null|       null|       null|       null|    U|         en-US|       null|  537|  608| 1396|    Y|    Y|    Y|    2|    2|  300|        rr.com|1/2/2012 14:37:20...|   45|   41|                null|Mozilla/5.0 (comp...|    0|    0|    5|   23|    0|       bastrop|  usa|  635|   tx|    0|    0|    0|    0|       null|       null|       null|       null|       null|       null|       null|    0|       null|       null|       null|       null|       null|       null|       null|       null|       null|       null|       null|       null|       null|       null|       null|       null| KVUE|       null|       null|       null|       null|    0|       null|       null|       null|       null|       null|       null|       null|       null|       null|       null|    120|       null|       null|        null|        null|        null|        null|        null|        null|        null|        null|        null|        null|        null|        null|        null|        null|        null|        null|        null|        null|        null|        null|        null|  KVUE|        null|        null|        null|        null|        null|        null|        null|        null|        null|        null|        null|        null|        null|        null|        null|        null|        null|        null|        null|        null|        null|        null|        null|        null|        null|        null|        null|        null|        null|        null|        null|        null|        null|        null|        null|        null|        null|        null|        null|        null|        null|        null|        null|        null|        null|        null|        null|        null|        null|        null|     0|        null|        null|        null|        null|        null|\n",
      "|1330636471|2012-03-01 13:14:31|2777955789535522167|6917530185672144965|FAS-2.8-AS3|   N|   0|  67.78.113.169|   1|    0|       null|   10|http://www.acme.c...|{F7F312F8-6BAE-4B...|       null|       null|       null|       null|       null|       null|       null|       null|       null|       null|       null|       null|    U|         en-US|       null|  537|  608| 1396|    Y|    Y|    Y|    2|    2|  300|        rr.com|1/2/2012 14:37:20...|   45|   41|                null|Mozilla/5.0 (comp...|    0|    0|    5|   26|    0|       bastrop|  usa|  635|   tx|    0|    0|    0|    0|       null|       null|       null|       null|       null|       null|       null|    0|       null|       null|       null|       null|       null|       null|       null|       null|       null|       null|       null|       null|       null|       null|       null|       null| KVUE|       null|       null|       null|       null|    0|       null|       null|       null|       null|       null|       null|       null|       null|       null|       null|    120|       null|       null|        null|        null|        null|        null|        null|        null|        null|        null|        null|        null|        null|        null|        null|        null|        null|        null|        null|        null|        null|        null|        null|  KVUE|        null|        null|        null|        null|        null|        null|        null|        null|        null|        null|        null|        null|        null|        null|        null|        null|        null|        null|        null|        null|        null|        null|        null|        null|        null|        null|        null|        null|        null|        null|        null|        null|        null|        null|        null|        null|        null|        null|        null|        null|        null|        null|        null|        null|        null|        null|        null|        null|        null|        null|     0|        null|        null|        null|        null|        null|\n",
      "|1330636801|2012-03-01 13:20:01|2777955789535522167|6917530185672144965|FAS-2.8-AS3|   N|   0|  67.78.113.169|   1|    0|       null|   10|http://www.acme.c...|{F7F312F8-6BAE-4B...|       null|       null|       null|       null|       null|       null|       null|       null|       null|       null|       null|       null|    U|         en-US|       null|  537|  608| 1396|    Y|    Y|    Y|    2|    2|  300|        rr.com|1/2/2012 14:37:20...|   45|   41|                null|Mozilla/5.0 (comp...|    0|    0|    5|   27|    0|       bastrop|  usa|  635|   tx|    0|    0|    0|    0|       null|       null|       null|       null|       null|       null|       null|    0|       null|       null|       null|       null|       null|       null|       null|       null|       null|       null|       null|       null|       null|       null|       null|       null| KVUE|       null|       null|       null|       null|    0|       null|       null|       null|       null|       null|       null|       null|       null|       null|       null|    120|       null|       null|        null|        null|        null|        null|        null|        null|        null|        null|        null|        null|        null|        null|        null|        null|        null|        null|        null|        null|        null|        null|        null|  KVUE|        null|        null|        null|        null|        null|        null|        null|        null|        null|        null|        null|        null|        null|        null|        null|        null|        null|        null|        null|        null|        null|        null|        null|        null|        null|        null|        null|        null|        null|        null|        null|        null|        null|        null|        null|        null|        null|        null|        null|        null|        null|        null|        null|        null|        null|        null|        null|        null|        null|        null|     0|        null|        null|        null|        null|        null|\n",
      "|1330636976|2012-03-01 13:22:56|2777955789535522167|6917530185672144965|FAS-2.8-AS3|   N|   0|  67.78.113.169|   1|    0|       null|   10|http://www.acme.c...|{F7F312F8-6BAE-4B...|       null|       null|       null|       null|       null|       null|       null|       null|       null|       null|       null|       null|    U|         en-US|       null|  537|  608| 1396|    Y|    Y|    Y|    2|    2|  300|        rr.com|1/2/2012 14:37:20...|   45|   41|                null|Mozilla/5.0 (comp...|    0|    0|    5|   34|    0|       bastrop|  usa|  635|   tx|    0|    0|    0|    0|       null|       null|       null|       null|       null|       null|       null|    0|       null|       null|       null|       null|       null|       null|       null|       null|       null|       null|       null|       null|       null|       null|       null|       null| KVUE|       null|       null|       null|       null|    0|       null|       null|       null|       null|       null|       null|       null|       null|       null|       null|    120|       null|       null|        null|        null|        null|        null|        null|        null|        null|        null|        null|        null|        null|        null|        null|        null|        null|        null|        null|        null|        null|        null|        null|  KVUE|        null|        null|        null|        null|        null|        null|        null|        null|        null|        null|        null|        null|        null|        null|        null|        null|        null|        null|        null|        null|        null|        null|        null|        null|        null|        null|        null|        null|        null|        null|        null|        null|        null|        null|        null|        null|        null|        null|        null|        null|        null|        null|        null|        null|        null|        null|        null|        null|        null|        null|     0|        null|        null|        null|        null|        null|\n",
      "|1330637600|2012-03-01 13:33:20|2803003660850008886|6917530632348999830|FAS-2.8-AS3|   N|   0|    76.15.8.153|   1|    0|       null|   10|http://www.acme.c...|{449F9A2B-F10C-48...|       null|       null|       null|       null|       null|       null|       null|       null|       null|       null|       null|       null|    U|en-us,en;q=0.5|       null|  591|  666| 1280|    Y|    Y|    Y|    2|    0|  300|mindspring.com|1/2/2012 16:29:36...|   45|    2|               00011|Mozilla/5.0 (Maci...|   71|    0|    7|    6|    0|    high falls|  usa|  501|   ny|    0|    0|    0|    0|       null|       null|       null|       null|       null|       null|       null|    0|       null|       null|       null|       null|       null|       null|       null|       null|       null|       null|       null|       null|       null|       null|       null|       null| WABC|       null|       null|       null|       null|    0|       null|       null|       null|       null|       null|       null|       null|       null|       null|       null|212,120|       null|       null|        null|        null|        null|        null|        null|        null|        null|        null|        null|        null|        null|        null|        null|        null|        null|        null|        null|        null|        null|        null|        null|  WABC|        null|        null|        null|        null|        null|        null|        null|        null|        null|        null|        null|        null|        null|        null|        null|        null|        null|        null|        null|        null|        null|        null|        null|        null|        null|        null|        null|        null|        null|        null|        null|        null|        null|        null|        null|        null|        null|        null|        null|        null|        null|        null|        null|        null|        null|        null|        null|        null|        null|        null|     0|        null|        null|        null|        null|        null|\n",
      "|1330637852|2012-03-01 13:37:32|2803003660850008886|6917530632348999830|FAS-2.8-AS3|   N|   0|    76.15.8.153|   1|    0|       null|   10|http://www.acme.c...|{449F9A2B-F10C-48...|       null|       null|       null|       null|       null|       null|       null|       null|       null|       null|       null|       null|    U|en-us,en;q=0.5|       null|  591|  666| 1280|    Y|    Y|    Y|    2|    0|  300|mindspring.com|1/2/2012 16:29:36...|   45|    2|               00011|Mozilla/5.0 (Maci...|   71|    0|    7|    8|    0|    high falls|  usa|  501|   ny|    0|    0|    0|    0|       null|       null|       null|       null|       null|       null|       null|    0|       null|       null|       null|       null|       null|       null|       null|       null|       null|       null|       null|       null|       null|       null|       null|       null| WABC|       null|       null|       null|       null|    0|       null|       null|       null|       null|       null|       null|       null|       null|       null|       null|    120|       null|       null|        null|        null|        null|        null|        null|        null|        null|        null|        null|        null|        null|        null|        null|        null|        null|        null|        null|        null|        null|        null|        null|  WABC|        null|        null|        null|        null|        null|        null|        null|        null|        null|        null|        null|        null|        null|        null|        null|        null|        null|        null|        null|        null|        null|        null|        null|        null|        null|        null|        null|        null|        null|        null|        null|        null|        null|        null|        null|        null|        null|        null|        null|        null|        null|        null|        null|        null|        null|        null|        null|        null|        null|        null|     0|        null|        null|        null|        null|        null|\n",
      "|1330639122|2012-03-01 13:58:42|2803003660850008886|6917530632348999830|FAS-2.8-AS3|   N|   0|    76.15.8.153|   1|    0|       null|   10|http://www.acme.c...|{449F9A2B-F10C-48...|       null|       null|       null|       null|       null|       null|       null|       null|       null|       null|       null|       null|    U|en-us,en;q=0.5|       null|  591|  666| 1280|    Y|    Y|    Y|    2|    0|  300|mindspring.com|1/2/2012 16:29:36...|   45|    2|               00011|Mozilla/5.0 (Maci...|   71|    0|    7|   16|    0|    high falls|  usa|  501|   ny|    0|    0|    0|    0|       null|       null|       null|       null|       null|       null|       null|    0|       null|       null|       null|       null|       null|       null|       null|       null|       null|       null|       null|       null|       null|       null|       null|       null| WABC|       null|       null|       null|       null|    0|       null|       null|       null|       null|       null|       null|       null|       null|       null|       null|    120|       null|       null|        null|        null|        null|        null|        null|        null|        null|        null|        null|        null|        null|        null|        null|        null|        null|        null|        null|        null|        null|        null|        null|  WABC|        null|        null|        null|        null|        null|        null|        null|        null|        null|        null|        null|        null|        null|        null|        null|        null|        null|        null|        null|        null|        null|        null|        null|        null|        null|        null|        null|        null|        null|        null|        null|        null|        null|        null|        null|        null|        null|        null|        null|        null|        null|        null|        null|        null|        null|        null|        null|        null|        null|        null|     0|        null|        null|        null|        null|        null|\n",
      "|1330638866|2012-03-01 13:54:26|5250475950310697559| 732692249279725810|FAS-2.8-AS3|   N|   0| 174.55.213.137|   1|    0|       null|   10|http://www.acme.c...|{7CA1C97A-93B7-42...|       null|       null|       null|       null|       null|       null|       null|       null|       null|       null|       null|       null|    U|en-us,en;q=0.5|       null|  591|  633| 1262|    Y|    Y|    Y|    2|    0|  304|   comcast.net|1/2/2012 16:43:24...|   45|   41|10020,00011,00007...|Mozilla/5.0 (Wind...|   71|    0|   18|   10|    0|new bloomfield|  usa|  566|   pa|    0|    0|    0|    0|       null|       null|       null|       null|       null|       null|       null|    0|       null|       null|       null|       null|       null|       null|       null|       null|       null|       null|       null|       null|       null|       null|       null|       null| WHTM|       null|       null|       null|       null|    0|       null|       null|       null|       null|       null|       null|       null|       null|       null|       null|    120|       null|       null|        null|        null|        null|        null|        null|        null|        null|        null|        null|        null|        null|        null|        null|        null|        null|        null|        null|        null|        null|        null|        null|  WHTM|        null|        null|        null|        null|        null|        null|        null|        null|        null|        null|        null|        null|        null|        null|        null|        null|        null|        null|        null|        null|        null|        null|        null|        null|        null|        null|        null|        null|        null|        null|        null|        null|        null|        null|        null|        null|        null|        null|        null|        null|        null|        null|        null|        null|        null|        null|        null|        null|        null|        null|     0|        null|        null|        null|        null|        null|\n",
      "+----------+-------------------+-------------------+-------------------+-----------+----+----+---------------+----+-----+-----------+-----+--------------------+--------------------+-----------+-----------+-----------+-----------+-----------+-----------+-----------+-----------+-----------+-----------+-----------+-----------+-----+--------------+-----------+-----+-----+-----+-----+-----+-----+-----+-----+-----+--------------+--------------------+-----+-----+--------------------+--------------------+-----+-----+-----+-----+-----+--------------+-----+-----+-----+-----+-----+-----+-----+-----------+-----------+-----------+-----------+-----------+-----------+-----------+-----+-----------+-----------+-----------+-----------+-----------+-----------+-----------+-----------+-----------+-----------+-----------+-----------+-----------+-----------+-----------+-----------+-----+-----------+-----------+-----------+-----------+-----+-----------+-----------+-----------+-----------+-----------+-----------+-----------+-----------+-----------+-----------+-------+-----------+-----------+------------+------------+------------+------------+------------+------------+------------+------------+------------+------------+------------+------------+------------+------------+------------+------------+------------+------------+------------+------------+------------+------+------------+------------+------------+------------+------------+------------+------------+------------+------------+------------+------------+------------+------------+------------+------------+------------+------------+------------+------------+------------+------------+------------+------------+------------+------------+------------+------------+------------+------------+------------+------------+------------+------------+------------+------------+------------+------------+------------+------------+------------+------------+------------+------------+------------+------------+------------+------------+------------+------------+------------+------+------------+------------+------------+------------+------------+\n",
      "only showing top 20 rows\n",
      "\n"
     ]
    }
   ],
   "source": [
    "df4.show(20)"
   ]
  },
  {
   "cell_type": "code",
   "execution_count": 177,
   "metadata": {},
   "outputs": [
    {
     "name": "stdout",
     "output_type": "stream",
     "text": [
      "root\n",
      " |-- col1: string (nullable = true)\n",
      " |-- col2: string (nullable = true)\n",
      " |-- col3: string (nullable = true)\n",
      " |-- col4: string (nullable = true)\n",
      " |-- col5: string (nullable = true)\n",
      " |-- col6: string (nullable = true)\n",
      " |-- col7: string (nullable = true)\n",
      " |-- col8: string (nullable = true)\n",
      " |-- col9: string (nullable = true)\n",
      " |-- col10: string (nullable = true)\n",
      " |-- col11: string (nullable = true)\n",
      " |-- col12: string (nullable = true)\n",
      " |-- col13: string (nullable = true)\n",
      " |-- col14: string (nullable = true)\n",
      " |-- col15: string (nullable = true)\n",
      " |-- col16: string (nullable = true)\n",
      " |-- col17: string (nullable = true)\n",
      " |-- col18: string (nullable = true)\n",
      " |-- col19: string (nullable = true)\n",
      " |-- col20: string (nullable = true)\n",
      " |-- col21: string (nullable = true)\n",
      " |-- col22: string (nullable = true)\n",
      " |-- col23: string (nullable = true)\n",
      " |-- col24: string (nullable = true)\n",
      " |-- col25: string (nullable = true)\n",
      " |-- col26: string (nullable = true)\n",
      " |-- col27: string (nullable = true)\n",
      " |-- col28: string (nullable = true)\n",
      " |-- col29: string (nullable = true)\n",
      " |-- col30: string (nullable = true)\n",
      " |-- col31: string (nullable = true)\n",
      " |-- col32: string (nullable = true)\n",
      " |-- col33: string (nullable = true)\n",
      " |-- col34: string (nullable = true)\n",
      " |-- col35: string (nullable = true)\n",
      " |-- col36: string (nullable = true)\n",
      " |-- col37: string (nullable = true)\n",
      " |-- col38: string (nullable = true)\n",
      " |-- col39: string (nullable = true)\n",
      " |-- col40: string (nullable = true)\n",
      " |-- col41: string (nullable = true)\n",
      " |-- col42: string (nullable = true)\n",
      " |-- col43: string (nullable = true)\n",
      " |-- col44: string (nullable = true)\n",
      " |-- col45: string (nullable = true)\n",
      " |-- col46: string (nullable = true)\n",
      " |-- col47: string (nullable = true)\n",
      " |-- col48: string (nullable = true)\n",
      " |-- col49: string (nullable = true)\n",
      " |-- col50: string (nullable = true)\n",
      " |-- col51: string (nullable = true)\n",
      " |-- col52: string (nullable = true)\n",
      " |-- col53: string (nullable = true)\n",
      " |-- col54: string (nullable = true)\n",
      " |-- col55: string (nullable = true)\n",
      " |-- col56: string (nullable = true)\n",
      " |-- col57: string (nullable = true)\n",
      " |-- col58: string (nullable = true)\n",
      " |-- col59: string (nullable = true)\n",
      " |-- col60: string (nullable = true)\n",
      " |-- col61: string (nullable = true)\n",
      " |-- col62: string (nullable = true)\n",
      " |-- col63: string (nullable = true)\n",
      " |-- col64: string (nullable = true)\n",
      " |-- col65: string (nullable = true)\n",
      " |-- col66: string (nullable = true)\n",
      " |-- col67: string (nullable = true)\n",
      " |-- col68: string (nullable = true)\n",
      " |-- col69: string (nullable = true)\n",
      " |-- col70: string (nullable = true)\n",
      " |-- col71: string (nullable = true)\n",
      " |-- col72: string (nullable = true)\n",
      " |-- col73: string (nullable = true)\n",
      " |-- col74: string (nullable = true)\n",
      " |-- col75: string (nullable = true)\n",
      " |-- col76: string (nullable = true)\n",
      " |-- col77: string (nullable = true)\n",
      " |-- col78: string (nullable = true)\n",
      " |-- col79: string (nullable = true)\n",
      " |-- col80: string (nullable = true)\n",
      " |-- col81: string (nullable = true)\n",
      " |-- col82: string (nullable = true)\n",
      " |-- col83: string (nullable = true)\n",
      " |-- col84: string (nullable = true)\n",
      " |-- col85: string (nullable = true)\n",
      " |-- col86: string (nullable = true)\n",
      " |-- col87: string (nullable = true)\n",
      " |-- col88: string (nullable = true)\n",
      " |-- col89: string (nullable = true)\n",
      " |-- col90: string (nullable = true)\n",
      " |-- col91: string (nullable = true)\n",
      " |-- col92: string (nullable = true)\n",
      " |-- col93: string (nullable = true)\n",
      " |-- col94: string (nullable = true)\n",
      " |-- col95: string (nullable = true)\n",
      " |-- col96: string (nullable = true)\n",
      " |-- col97: string (nullable = true)\n",
      " |-- col98: string (nullable = true)\n",
      " |-- col99: string (nullable = true)\n",
      " |-- col100: string (nullable = true)\n",
      " |-- col101: string (nullable = true)\n",
      " |-- col102: string (nullable = true)\n",
      " |-- col103: string (nullable = true)\n",
      " |-- col104: string (nullable = true)\n",
      " |-- col105: string (nullable = true)\n",
      " |-- col106: string (nullable = true)\n",
      " |-- col107: string (nullable = true)\n",
      " |-- col108: string (nullable = true)\n",
      " |-- col109: string (nullable = true)\n",
      " |-- col110: string (nullable = true)\n",
      " |-- col111: string (nullable = true)\n",
      " |-- col112: string (nullable = true)\n",
      " |-- col113: string (nullable = true)\n",
      " |-- col114: string (nullable = true)\n",
      " |-- col115: string (nullable = true)\n",
      " |-- col116: string (nullable = true)\n",
      " |-- col117: string (nullable = true)\n",
      " |-- col118: string (nullable = true)\n",
      " |-- col119: string (nullable = true)\n",
      " |-- col120: string (nullable = true)\n",
      " |-- col121: string (nullable = true)\n",
      " |-- col122: string (nullable = true)\n",
      " |-- col123: string (nullable = true)\n",
      " |-- col124: string (nullable = true)\n",
      " |-- col125: string (nullable = true)\n",
      " |-- col126: string (nullable = true)\n",
      " |-- col127: string (nullable = true)\n",
      " |-- col128: string (nullable = true)\n",
      " |-- col129: string (nullable = true)\n",
      " |-- col130: string (nullable = true)\n",
      " |-- col131: string (nullable = true)\n",
      " |-- col132: string (nullable = true)\n",
      " |-- col133: string (nullable = true)\n",
      " |-- col134: string (nullable = true)\n",
      " |-- col135: string (nullable = true)\n",
      " |-- col136: string (nullable = true)\n",
      " |-- col137: string (nullable = true)\n",
      " |-- col138: string (nullable = true)\n",
      " |-- col139: string (nullable = true)\n",
      " |-- col140: string (nullable = true)\n",
      " |-- col141: string (nullable = true)\n",
      " |-- col142: string (nullable = true)\n",
      " |-- col143: string (nullable = true)\n",
      " |-- col144: string (nullable = true)\n",
      " |-- col145: string (nullable = true)\n",
      " |-- col146: string (nullable = true)\n",
      " |-- col147: string (nullable = true)\n",
      " |-- col148: string (nullable = true)\n",
      " |-- col149: string (nullable = true)\n",
      " |-- col150: string (nullable = true)\n",
      " |-- col151: string (nullable = true)\n",
      " |-- col152: string (nullable = true)\n",
      " |-- col153: string (nullable = true)\n",
      " |-- col154: string (nullable = true)\n",
      " |-- col155: string (nullable = true)\n",
      " |-- col156: string (nullable = true)\n",
      " |-- col157: string (nullable = true)\n",
      " |-- col158: string (nullable = true)\n",
      " |-- col159: string (nullable = true)\n",
      " |-- col160: string (nullable = true)\n",
      " |-- col161: string (nullable = true)\n",
      " |-- col162: string (nullable = true)\n",
      " |-- col163: string (nullable = true)\n",
      " |-- col164: string (nullable = true)\n",
      " |-- col165: string (nullable = true)\n",
      " |-- col166: string (nullable = true)\n",
      " |-- col167: string (nullable = true)\n",
      " |-- col168: string (nullable = true)\n",
      " |-- col169: string (nullable = true)\n",
      " |-- col170: string (nullable = true)\n",
      " |-- col171: string (nullable = true)\n",
      " |-- col172: string (nullable = true)\n",
      " |-- col173: string (nullable = true)\n",
      " |-- col174: string (nullable = true)\n",
      " |-- col175: string (nullable = true)\n",
      " |-- col176: string (nullable = true)\n",
      " |-- col177: string (nullable = true)\n",
      " |-- col178: string (nullable = true)\n",
      "\n"
     ]
    }
   ],
   "source": [
    "df4.printSchema()"
   ]
  },
  {
   "cell_type": "code",
   "execution_count": 178,
   "metadata": {},
   "outputs": [],
   "source": [
    "df4.createOrReplaceTempView('df4')"
   ]
  },
  {
   "cell_type": "code",
   "execution_count": 200,
   "metadata": {},
   "outputs": [],
   "source": [
    "query_results = spark.sql(\"SELECT col3 as col3, col2 as col2, col1 as col1 FROM df4\")\\\n",
    "    .write.format(\"org.apache.spark.sql.cassandra\")\\\n",
    "    .options(table=\"weblog\",keyspace=\"test\")\\\n",
    "    .save(mode=\"append\")"
   ]
  },
  {
   "cell_type": "code",
   "execution_count": 553,
   "metadata": {},
   "outputs": [],
   "source": [
    "# appending the rest data into cql\n",
    "query_results = df4.select([c for c in df4.columns if c not in {'col2', 'col3'}])\\\n",
    "    .write.format(\"org.apache.spark.sql.cassandra\")\\\n",
    "    .options(table=\"weblog\", keyspace=\"test\")\\\n",
    "    .save(mode=\"append\")"
   ]
  },
  {
   "cell_type": "code",
   "execution_count": 415,
   "metadata": {},
   "outputs": [],
   "source": [
    "df2 = spark.read.csv(\"file:////var/lib/hadoop/web_log.tsv\", sep=r'\\t', header = True)"
   ]
  },
  {
   "cell_type": "code",
   "execution_count": 418,
   "metadata": {},
   "outputs": [],
   "source": [
    "# deleting unnamed columns as it wont be required for future analysis\n",
    "some_list=df2.columns\n",
    "columns_to_drop = [i for i in some_list if i.startswith('Unnamed:')]\n",
    "df5 = df2.drop(*columns_to_drop)"
   ]
  },
  {
   "cell_type": "code",
   "execution_count": 411,
   "metadata": {},
   "outputs": [
    {
     "data": {
      "text/plain": [
       "pyspark.sql.dataframe.DataFrame"
      ]
     },
     "execution_count": 411,
     "metadata": {},
     "output_type": "execute_result"
    }
   ],
   "source": [
    "type(df2)"
   ]
  },
  {
   "cell_type": "code",
   "execution_count": 420,
   "metadata": {},
   "outputs": [],
   "source": [
    "columns=[\"col\"+str(i) for i in range(len(df5.columns))]\n",
    "df3 = df5.toDF(*columns)"
   ]
  },
  {
   "cell_type": "code",
   "execution_count": 421,
   "metadata": {},
   "outputs": [],
   "source": [
    "df4 = df3.drop(\"col0\")"
   ]
  },
  {
   "cell_type": "code",
   "execution_count": 445,
   "metadata": {
    "scrolled": true
   },
   "outputs": [
    {
     "name": "stdout",
     "output_type": "stream",
     "text": [
      "+----------+-------------------+-------------------+-------------------+-----------+----+----+--------------+----+-----+-----+--------------------+--------------------+-----+--------------+-----+-----+-----+-----+-----+-----+-----+-----+-----+--------------+--------------------+-----+-----+--------------------+--------------------+-----+-----+-----+-----+-----+--------------+-----+-----+-----+-----+-----+-----+-----+-----+-----+-----+-------+-----+-----+\n",
      "|      col1|               col2|               col3|               col4|       col5|col6|col7|          col8|col9|col10|col11|               col12|               col13|col14|         col15|col16|col17|col18|col19|col20|col21|col22|col23|col24|         col25|               col26|col27|col28|               col29|               col30|col31|col32|col33|col34|col35|         col36|col37|col38|col39|col40|col41|col42|col43|col44|col45|col46|  col47|col48|col49|\n",
      "+----------+-------------------+-------------------+-------------------+-----------+----+----+--------------+----+-----+-----+--------------------+--------------------+-----+--------------+-----+-----+-----+-----+-----+-----+-----+-----+-----+--------------+--------------------+-----+-----+--------------------+--------------------+-----+-----+-----+-----+-----+--------------+-----+-----+-----+-----+-----+-----+-----+-----+-----+-----+-------+-----+-----+\n",
      "|1330642665|2012-03-01 14:57:45|5325504935867980089| 732128079555615205|FAS-2.8-AS3|   N|   0|  99.46.44.132|   1|    0|   10|http://www.acme.c...|{97BA2E9D-EEF2-4F...|    U|         en-us|  589|    0|    0|    U|    U|    Y|    0|    0|  304| sbcglobal.net|1/2/2012 16:30:8 ...|   45|    2|                null|Mozilla/5.0 (Maci...|   71|    0|   29|   29|    0|        dallas|  usa|  623|   tx|    0|    0|    0|    0|    0| WFAA|    0|    120| WFAA|    0|\n",
      "|1330642307|2012-03-01 14:51:47|5325504935867980089| 732128079555615205|FAS-2.8-AS3|   N|   0|  99.46.44.132|   1|    0|   10|http://www.acme.c...|{97BA2E9D-EEF2-4F...|    U|         en-us|  589|    0|    0|    U|    U|    Y|    0|    0|  304| sbcglobal.net|1/2/2012 16:30:8 ...|   45|    2|                null|Mozilla/5.0 (Maci...|   71|    0|   29|   27|    0|        dallas|  usa|  623|   tx|    0|    0|    0|    0|    0| WFAA|    0|239,120| WFAA|    0|\n",
      "|1330641684|2012-03-01 14:41:24|5325504935867980089| 732128079555615205|FAS-2.8-AS3|   N|   0|  99.46.44.132|   1|    0|   10|http://www.acme.c...|{97BA2E9D-EEF2-4F...|    U|         en-us|  589|    0|    0|    U|    U|    Y|    0|    0|  304| sbcglobal.net|1/2/2012 16:30:8 ...|   45|    2|                null|Mozilla/5.0 (Maci...|   71|    0|   29|   25|    0|        dallas|  usa|  623|   tx|    0|    0|    0|    0|    0| WFAA|    0|239,120| WFAA|    0|\n",
      "|1330641354|2012-03-01 14:35:54|5325504935867980089| 732128079555615205|FAS-2.8-AS3|   N|   0|  99.46.44.132|   1|    0|   10|http://www.acme.c...|{97BA2E9D-EEF2-4F...|    U|         en-us|  589|    0|    0|    U|    U|    Y|    0|    0|  304| sbcglobal.net|1/2/2012 16:30:8 ...|   45|    2|                null|Mozilla/5.0 (Maci...|   71|    0|   29|   21|    0|        dallas|  usa|  623|   tx|    0|    0|    0|    0|    0| WFAA|    0|    120| WFAA|    0|\n",
      "|1330641302|2012-03-01 14:35:02|5325504935867980089| 732128079555615205|FAS-2.8-AS3|   N|   0|  99.46.44.132|   1|    0|   10|http://www.acme.c...|{97BA2E9D-EEF2-4F...|    U|         en-us|  589|    0|    0|    U|    U|    Y|    0|    0|  304| sbcglobal.net|1/2/2012 16:30:8 ...|   45|    2|                null|Mozilla/5.0 (Maci...|   71|    0|   29|   20|    0|        dallas|  usa|  623|   tx|    0|    0|    0|    0|    0| WFAA|    0|    120| WFAA|    0|\n",
      "|1330641272|2012-03-01 14:34:32|5325504935867980089| 732128079555615205|FAS-2.8-AS3|   N|   0|  99.46.44.132|   1|    0|   10|http://www.acme.c...|{97BA2E9D-EEF2-4F...|    U|         en-us|  589|    0|    0|    U|    U|    Y|    0|    0|  304| sbcglobal.net|1/2/2012 16:30:8 ...|   45|    2|                null|Mozilla/5.0 (Maci...|   71|    0|   29|   18|    0|        dallas|  usa|  623|   tx|    0|    0|    0|    0|    0| WFAA|    0|212,120| WFAA|    0|\n",
      "|1330641219|2012-03-01 14:33:39|5325504935867980089| 732128079555615205|FAS-2.8-AS3|   N|   0|  99.46.44.132|   1|    0|   10|http://www.acme.c...|{97BA2E9D-EEF2-4F...|    U|         en-us|  589|    0|    0|    U|    U|    Y|    0|    0|  304| sbcglobal.net|1/2/2012 16:30:8 ...|   45|    2|                null|Mozilla/5.0 (Maci...|   71|    0|   29|   13|    0|        dallas|  usa|  623|   tx|    0|    0|    0|    0|    0| WFAA|    0|212,120| WFAA|    0|\n",
      "|1330635765|2012-03-01 13:02:45|2768829104290604354|4611687141025243051|FAS-2.8-AS3|   N|   0| 98.155.49.183|   1|    0|   10|http://www.acme.c...|{9259CC6D-0ADF-43...|    U|en-us,en;q=0.5|  510|  830| 1680|    Y|    Y|    Y|    1|    0|  300|        rr.com|1/2/2012 11:54:29...|   45|   31|00011,10002,00007...|Mozilla/5.0 (Wind...|  180|    0|   70|   65|    0|     san diego|  usa|  825|   ca|    0|    0|    0|    0|    0| KGTV|    0|    120| KGTV|    0|\n",
      "|1330636691|2012-03-01 13:18:11|2768829104290604354|4611687141025243051|FAS-2.8-AS3|   N|   0| 98.155.49.183|   1|    0|   10|http://www.acme.c...|{9259CC6D-0ADF-43...|    U|en-us,en;q=0.5|  510|  830| 1680|    Y|    Y|    Y|    1|    0|  300|        rr.com|1/2/2012 11:54:29...|   45|   31|00011,10002,00007...|Mozilla/5.0 (Wind...|  180|    0|   70|   74|    0|     san diego|  usa|  825|   ca|    0|    0|    0|    0|    0| KGTV|    0|    120| KGTV|    0|\n",
      "|1330638972|2012-03-01 13:56:12|2771408051764569477|6917530611412532533|FAS-2.8-AS3|   N|   0| 76.174.52.116|   1|    0|   10|http://www.acme.c...|{C5A0935A-A910-46...|    U|         en-US|  497|  729| 1045|    Y|    Y|    Y|    1|    2|  300|        rr.com|1/2/2012 12:46:53...|   45|   41|                null|Mozilla/4.0 (comp...|   70|    0|   19|   56|    0|woodland hills|  usa|  803|   ca|    0|    0|    0|    0|    0| KABC|    0|    120| KABC|    0|\n",
      "|1330635879|2012-03-01 13:04:39|2777955789535522167|6917530185672144965|FAS-2.8-AS3|   N|   0| 67.78.113.169|   1|    0|   10|http://www.acme.c...|{F7F312F8-6BAE-4B...|    U|         en-US|  537|  608| 1396|    Y|    Y|    Y|    2|    2|  300|        rr.com|1/2/2012 14:37:20...|   45|   41|                null|Mozilla/5.0 (comp...|    0|    0|    5|   18|    0|       bastrop|  usa|  635|   tx|    0|    0|    1|    0|    0| KVUE|    0|    120| KVUE|    0|\n",
      "|1330636364|2012-03-01 13:12:44|2777955789535522167|6917530185672144965|FAS-2.8-AS3|   N|   0| 67.78.113.169|   1|    0|   10|http://www.acme.c...|{F7F312F8-6BAE-4B...|    U|         en-US|  537|  608| 1396|    Y|    Y|    Y|    2|    2|  300|        rr.com|1/2/2012 14:37:20...|   45|   41|                null|Mozilla/5.0 (comp...|    0|    0|    5|   23|    0|       bastrop|  usa|  635|   tx|    0|    0|    0|    0|    0| KVUE|    0|    120| KVUE|    0|\n",
      "|1330636471|2012-03-01 13:14:31|2777955789535522167|6917530185672144965|FAS-2.8-AS3|   N|   0| 67.78.113.169|   1|    0|   10|http://www.acme.c...|{F7F312F8-6BAE-4B...|    U|         en-US|  537|  608| 1396|    Y|    Y|    Y|    2|    2|  300|        rr.com|1/2/2012 14:37:20...|   45|   41|                null|Mozilla/5.0 (comp...|    0|    0|    5|   26|    0|       bastrop|  usa|  635|   tx|    0|    0|    0|    0|    0| KVUE|    0|    120| KVUE|    0|\n",
      "|1330636801|2012-03-01 13:20:01|2777955789535522167|6917530185672144965|FAS-2.8-AS3|   N|   0| 67.78.113.169|   1|    0|   10|http://www.acme.c...|{F7F312F8-6BAE-4B...|    U|         en-US|  537|  608| 1396|    Y|    Y|    Y|    2|    2|  300|        rr.com|1/2/2012 14:37:20...|   45|   41|                null|Mozilla/5.0 (comp...|    0|    0|    5|   27|    0|       bastrop|  usa|  635|   tx|    0|    0|    0|    0|    0| KVUE|    0|    120| KVUE|    0|\n",
      "|1330636976|2012-03-01 13:22:56|2777955789535522167|6917530185672144965|FAS-2.8-AS3|   N|   0| 67.78.113.169|   1|    0|   10|http://www.acme.c...|{F7F312F8-6BAE-4B...|    U|         en-US|  537|  608| 1396|    Y|    Y|    Y|    2|    2|  300|        rr.com|1/2/2012 14:37:20...|   45|   41|                null|Mozilla/5.0 (comp...|    0|    0|    5|   34|    0|       bastrop|  usa|  635|   tx|    0|    0|    0|    0|    0| KVUE|    0|    120| KVUE|    0|\n",
      "|1330637600|2012-03-01 13:33:20|2803003660850008886|6917530632348999830|FAS-2.8-AS3|   N|   0|   76.15.8.153|   1|    0|   10|http://www.acme.c...|{449F9A2B-F10C-48...|    U|en-us,en;q=0.5|  591|  666| 1280|    Y|    Y|    Y|    2|    0|  300|mindspring.com|1/2/2012 16:29:36...|   45|    2|               00011|Mozilla/5.0 (Maci...|   71|    0|    7|    6|    0|    high falls|  usa|  501|   ny|    0|    0|    0|    0|    0| WABC|    0|212,120| WABC|    0|\n",
      "|1330637852|2012-03-01 13:37:32|2803003660850008886|6917530632348999830|FAS-2.8-AS3|   N|   0|   76.15.8.153|   1|    0|   10|http://www.acme.c...|{449F9A2B-F10C-48...|    U|en-us,en;q=0.5|  591|  666| 1280|    Y|    Y|    Y|    2|    0|  300|mindspring.com|1/2/2012 16:29:36...|   45|    2|               00011|Mozilla/5.0 (Maci...|   71|    0|    7|    8|    0|    high falls|  usa|  501|   ny|    0|    0|    0|    0|    0| WABC|    0|    120| WABC|    0|\n",
      "|1330639122|2012-03-01 13:58:42|2803003660850008886|6917530632348999830|FAS-2.8-AS3|   N|   0|   76.15.8.153|   1|    0|   10|http://www.acme.c...|{449F9A2B-F10C-48...|    U|en-us,en;q=0.5|  591|  666| 1280|    Y|    Y|    Y|    2|    0|  300|mindspring.com|1/2/2012 16:29:36...|   45|    2|               00011|Mozilla/5.0 (Maci...|   71|    0|    7|   16|    0|    high falls|  usa|  501|   ny|    0|    0|    0|    0|    0| WABC|    0|    120| WABC|    0|\n",
      "|1330638866|2012-03-01 13:54:26|5250475950310697559| 732692249279725810|FAS-2.8-AS3|   N|   0|174.55.213.137|   1|    0|   10|http://www.acme.c...|{7CA1C97A-93B7-42...|    U|en-us,en;q=0.5|  591|  633| 1262|    Y|    Y|    Y|    2|    0|  304|   comcast.net|1/2/2012 16:43:24...|   45|   41|10020,00011,00007...|Mozilla/5.0 (Wind...|   71|    0|   18|   10|    0|new bloomfield|  usa|  566|   pa|    0|    0|    0|    0|    0| WHTM|    0|    120| WHTM|    0|\n",
      "|1330635791|2012-03-01 13:03:11|2838980791558542902|4611687125995798216|FAS-2.8-AS3|   N|   0| 75.138.116.59|   1|    0|   10|http://www.acme.c...|{253CA5D4-2C47-46...|    U|en-US,en;q=0.8|  583|  785| 1600|    Y|    Y|    Y|    1|    0|  300|   charter.com|1/2/2012 15:43:49...|   45|   36|   00011,10020,10003|Mozilla/5.0 (Wind...|   70|    0|    8|   21|    0|         lyman|  usa|  567|   sc|    0|    0|    0|    0|    0| WLOS|    0|    120| WLOS|    0|\n",
      "+----------+-------------------+-------------------+-------------------+-----------+----+----+--------------+----+-----+-----+--------------------+--------------------+-----+--------------+-----+-----+-----+-----+-----+-----+-----+-----+-----+--------------+--------------------+-----+-----+--------------------+--------------------+-----+-----+-----+-----+-----+--------------+-----+-----+-----+-----+-----+-----+-----+-----+-----+-----+-------+-----+-----+\n",
      "only showing top 20 rows\n",
      "\n"
     ]
    }
   ],
   "source": [
    "df4.show(20)"
   ]
  },
  {
   "cell_type": "code",
   "execution_count": 477,
   "metadata": {},
   "outputs": [],
   "source": [
    "# removing special charector from column from column no col13 for smooth joining\n",
    "from pyspark.sql.functions import regexp_replace, col\n",
    "df6 = df4.withColumn(\"col13\",regexp_replace(col(\"col13\"), \"[^0-9A-Za-z-]\", \"\"))"
   ]
  },
  {
   "cell_type": "code",
   "execution_count": 478,
   "metadata": {},
   "outputs": [
    {
     "name": "stdout",
     "output_type": "stream",
     "text": [
      "+----------+-------------------+-------------------+-------------------+-----------+----+----+--------------+----+-----+-----+--------------------+--------------------+-----+--------------+-----+-----+-----+-----+-----+-----+-----+-----+-----+--------------+--------------------+-----+-----+--------------------+--------------------+-----+-----+-----+-----+-----+--------------+-----+-----+-----+-----+-----+-----+-----+-----+-----+-----+-------+-----+-----+\n",
      "|      col1|               col2|               col3|               col4|       col5|col6|col7|          col8|col9|col10|col11|               col12|               col13|col14|         col15|col16|col17|col18|col19|col20|col21|col22|col23|col24|         col25|               col26|col27|col28|               col29|               col30|col31|col32|col33|col34|col35|         col36|col37|col38|col39|col40|col41|col42|col43|col44|col45|col46|  col47|col48|col49|\n",
      "+----------+-------------------+-------------------+-------------------+-----------+----+----+--------------+----+-----+-----+--------------------+--------------------+-----+--------------+-----+-----+-----+-----+-----+-----+-----+-----+-----+--------------+--------------------+-----+-----+--------------------+--------------------+-----+-----+-----+-----+-----+--------------+-----+-----+-----+-----+-----+-----+-----+-----+-----+-----+-------+-----+-----+\n",
      "|1330642665|2012-03-01 14:57:45|5325504935867980089| 732128079555615205|FAS-2.8-AS3|   N|   0|  99.46.44.132|   1|    0|   10|http://www.acme.c...|97BA2E9D-EEF2-4FD...|    U|         en-us|  589|    0|    0|    U|    U|    Y|    0|    0|  304| sbcglobal.net|1/2/2012 16:30:8 ...|   45|    2|                null|Mozilla/5.0 (Maci...|   71|    0|   29|   29|    0|        dallas|  usa|  623|   tx|    0|    0|    0|    0|    0| WFAA|    0|    120| WFAA|    0|\n",
      "|1330642307|2012-03-01 14:51:47|5325504935867980089| 732128079555615205|FAS-2.8-AS3|   N|   0|  99.46.44.132|   1|    0|   10|http://www.acme.c...|97BA2E9D-EEF2-4FD...|    U|         en-us|  589|    0|    0|    U|    U|    Y|    0|    0|  304| sbcglobal.net|1/2/2012 16:30:8 ...|   45|    2|                null|Mozilla/5.0 (Maci...|   71|    0|   29|   27|    0|        dallas|  usa|  623|   tx|    0|    0|    0|    0|    0| WFAA|    0|239,120| WFAA|    0|\n",
      "|1330641684|2012-03-01 14:41:24|5325504935867980089| 732128079555615205|FAS-2.8-AS3|   N|   0|  99.46.44.132|   1|    0|   10|http://www.acme.c...|97BA2E9D-EEF2-4FD...|    U|         en-us|  589|    0|    0|    U|    U|    Y|    0|    0|  304| sbcglobal.net|1/2/2012 16:30:8 ...|   45|    2|                null|Mozilla/5.0 (Maci...|   71|    0|   29|   25|    0|        dallas|  usa|  623|   tx|    0|    0|    0|    0|    0| WFAA|    0|239,120| WFAA|    0|\n",
      "|1330641354|2012-03-01 14:35:54|5325504935867980089| 732128079555615205|FAS-2.8-AS3|   N|   0|  99.46.44.132|   1|    0|   10|http://www.acme.c...|97BA2E9D-EEF2-4FD...|    U|         en-us|  589|    0|    0|    U|    U|    Y|    0|    0|  304| sbcglobal.net|1/2/2012 16:30:8 ...|   45|    2|                null|Mozilla/5.0 (Maci...|   71|    0|   29|   21|    0|        dallas|  usa|  623|   tx|    0|    0|    0|    0|    0| WFAA|    0|    120| WFAA|    0|\n",
      "|1330641302|2012-03-01 14:35:02|5325504935867980089| 732128079555615205|FAS-2.8-AS3|   N|   0|  99.46.44.132|   1|    0|   10|http://www.acme.c...|97BA2E9D-EEF2-4FD...|    U|         en-us|  589|    0|    0|    U|    U|    Y|    0|    0|  304| sbcglobal.net|1/2/2012 16:30:8 ...|   45|    2|                null|Mozilla/5.0 (Maci...|   71|    0|   29|   20|    0|        dallas|  usa|  623|   tx|    0|    0|    0|    0|    0| WFAA|    0|    120| WFAA|    0|\n",
      "|1330641272|2012-03-01 14:34:32|5325504935867980089| 732128079555615205|FAS-2.8-AS3|   N|   0|  99.46.44.132|   1|    0|   10|http://www.acme.c...|97BA2E9D-EEF2-4FD...|    U|         en-us|  589|    0|    0|    U|    U|    Y|    0|    0|  304| sbcglobal.net|1/2/2012 16:30:8 ...|   45|    2|                null|Mozilla/5.0 (Maci...|   71|    0|   29|   18|    0|        dallas|  usa|  623|   tx|    0|    0|    0|    0|    0| WFAA|    0|212,120| WFAA|    0|\n",
      "|1330641219|2012-03-01 14:33:39|5325504935867980089| 732128079555615205|FAS-2.8-AS3|   N|   0|  99.46.44.132|   1|    0|   10|http://www.acme.c...|97BA2E9D-EEF2-4FD...|    U|         en-us|  589|    0|    0|    U|    U|    Y|    0|    0|  304| sbcglobal.net|1/2/2012 16:30:8 ...|   45|    2|                null|Mozilla/5.0 (Maci...|   71|    0|   29|   13|    0|        dallas|  usa|  623|   tx|    0|    0|    0|    0|    0| WFAA|    0|212,120| WFAA|    0|\n",
      "|1330635765|2012-03-01 13:02:45|2768829104290604354|4611687141025243051|FAS-2.8-AS3|   N|   0| 98.155.49.183|   1|    0|   10|http://www.acme.c...|9259CC6D-0ADF-432...|    U|en-us,en;q=0.5|  510|  830| 1680|    Y|    Y|    Y|    1|    0|  300|        rr.com|1/2/2012 11:54:29...|   45|   31|00011,10002,00007...|Mozilla/5.0 (Wind...|  180|    0|   70|   65|    0|     san diego|  usa|  825|   ca|    0|    0|    0|    0|    0| KGTV|    0|    120| KGTV|    0|\n",
      "|1330636691|2012-03-01 13:18:11|2768829104290604354|4611687141025243051|FAS-2.8-AS3|   N|   0| 98.155.49.183|   1|    0|   10|http://www.acme.c...|9259CC6D-0ADF-432...|    U|en-us,en;q=0.5|  510|  830| 1680|    Y|    Y|    Y|    1|    0|  300|        rr.com|1/2/2012 11:54:29...|   45|   31|00011,10002,00007...|Mozilla/5.0 (Wind...|  180|    0|   70|   74|    0|     san diego|  usa|  825|   ca|    0|    0|    0|    0|    0| KGTV|    0|    120| KGTV|    0|\n",
      "|1330638972|2012-03-01 13:56:12|2771408051764569477|6917530611412532533|FAS-2.8-AS3|   N|   0| 76.174.52.116|   1|    0|   10|http://www.acme.c...|C5A0935A-A910-463...|    U|         en-US|  497|  729| 1045|    Y|    Y|    Y|    1|    2|  300|        rr.com|1/2/2012 12:46:53...|   45|   41|                null|Mozilla/4.0 (comp...|   70|    0|   19|   56|    0|woodland hills|  usa|  803|   ca|    0|    0|    0|    0|    0| KABC|    0|    120| KABC|    0|\n",
      "|1330635879|2012-03-01 13:04:39|2777955789535522167|6917530185672144965|FAS-2.8-AS3|   N|   0| 67.78.113.169|   1|    0|   10|http://www.acme.c...|F7F312F8-6BAE-4B0...|    U|         en-US|  537|  608| 1396|    Y|    Y|    Y|    2|    2|  300|        rr.com|1/2/2012 14:37:20...|   45|   41|                null|Mozilla/5.0 (comp...|    0|    0|    5|   18|    0|       bastrop|  usa|  635|   tx|    0|    0|    1|    0|    0| KVUE|    0|    120| KVUE|    0|\n",
      "|1330636364|2012-03-01 13:12:44|2777955789535522167|6917530185672144965|FAS-2.8-AS3|   N|   0| 67.78.113.169|   1|    0|   10|http://www.acme.c...|F7F312F8-6BAE-4B0...|    U|         en-US|  537|  608| 1396|    Y|    Y|    Y|    2|    2|  300|        rr.com|1/2/2012 14:37:20...|   45|   41|                null|Mozilla/5.0 (comp...|    0|    0|    5|   23|    0|       bastrop|  usa|  635|   tx|    0|    0|    0|    0|    0| KVUE|    0|    120| KVUE|    0|\n",
      "|1330636471|2012-03-01 13:14:31|2777955789535522167|6917530185672144965|FAS-2.8-AS3|   N|   0| 67.78.113.169|   1|    0|   10|http://www.acme.c...|F7F312F8-6BAE-4B0...|    U|         en-US|  537|  608| 1396|    Y|    Y|    Y|    2|    2|  300|        rr.com|1/2/2012 14:37:20...|   45|   41|                null|Mozilla/5.0 (comp...|    0|    0|    5|   26|    0|       bastrop|  usa|  635|   tx|    0|    0|    0|    0|    0| KVUE|    0|    120| KVUE|    0|\n",
      "|1330636801|2012-03-01 13:20:01|2777955789535522167|6917530185672144965|FAS-2.8-AS3|   N|   0| 67.78.113.169|   1|    0|   10|http://www.acme.c...|F7F312F8-6BAE-4B0...|    U|         en-US|  537|  608| 1396|    Y|    Y|    Y|    2|    2|  300|        rr.com|1/2/2012 14:37:20...|   45|   41|                null|Mozilla/5.0 (comp...|    0|    0|    5|   27|    0|       bastrop|  usa|  635|   tx|    0|    0|    0|    0|    0| KVUE|    0|    120| KVUE|    0|\n",
      "|1330636976|2012-03-01 13:22:56|2777955789535522167|6917530185672144965|FAS-2.8-AS3|   N|   0| 67.78.113.169|   1|    0|   10|http://www.acme.c...|F7F312F8-6BAE-4B0...|    U|         en-US|  537|  608| 1396|    Y|    Y|    Y|    2|    2|  300|        rr.com|1/2/2012 14:37:20...|   45|   41|                null|Mozilla/5.0 (comp...|    0|    0|    5|   34|    0|       bastrop|  usa|  635|   tx|    0|    0|    0|    0|    0| KVUE|    0|    120| KVUE|    0|\n",
      "|1330637600|2012-03-01 13:33:20|2803003660850008886|6917530632348999830|FAS-2.8-AS3|   N|   0|   76.15.8.153|   1|    0|   10|http://www.acme.c...|449F9A2B-F10C-48D...|    U|en-us,en;q=0.5|  591|  666| 1280|    Y|    Y|    Y|    2|    0|  300|mindspring.com|1/2/2012 16:29:36...|   45|    2|               00011|Mozilla/5.0 (Maci...|   71|    0|    7|    6|    0|    high falls|  usa|  501|   ny|    0|    0|    0|    0|    0| WABC|    0|212,120| WABC|    0|\n",
      "|1330637852|2012-03-01 13:37:32|2803003660850008886|6917530632348999830|FAS-2.8-AS3|   N|   0|   76.15.8.153|   1|    0|   10|http://www.acme.c...|449F9A2B-F10C-48D...|    U|en-us,en;q=0.5|  591|  666| 1280|    Y|    Y|    Y|    2|    0|  300|mindspring.com|1/2/2012 16:29:36...|   45|    2|               00011|Mozilla/5.0 (Maci...|   71|    0|    7|    8|    0|    high falls|  usa|  501|   ny|    0|    0|    0|    0|    0| WABC|    0|    120| WABC|    0|\n",
      "|1330639122|2012-03-01 13:58:42|2803003660850008886|6917530632348999830|FAS-2.8-AS3|   N|   0|   76.15.8.153|   1|    0|   10|http://www.acme.c...|449F9A2B-F10C-48D...|    U|en-us,en;q=0.5|  591|  666| 1280|    Y|    Y|    Y|    2|    0|  300|mindspring.com|1/2/2012 16:29:36...|   45|    2|               00011|Mozilla/5.0 (Maci...|   71|    0|    7|   16|    0|    high falls|  usa|  501|   ny|    0|    0|    0|    0|    0| WABC|    0|    120| WABC|    0|\n",
      "|1330638866|2012-03-01 13:54:26|5250475950310697559| 732692249279725810|FAS-2.8-AS3|   N|   0|174.55.213.137|   1|    0|   10|http://www.acme.c...|7CA1C97A-93B7-422...|    U|en-us,en;q=0.5|  591|  633| 1262|    Y|    Y|    Y|    2|    0|  304|   comcast.net|1/2/2012 16:43:24...|   45|   41|10020,00011,00007...|Mozilla/5.0 (Wind...|   71|    0|   18|   10|    0|new bloomfield|  usa|  566|   pa|    0|    0|    0|    0|    0| WHTM|    0|    120| WHTM|    0|\n",
      "|1330635791|2012-03-01 13:03:11|2838980791558542902|4611687125995798216|FAS-2.8-AS3|   N|   0| 75.138.116.59|   1|    0|   10|http://www.acme.c...|253CA5D4-2C47-46D...|    U|en-US,en;q=0.8|  583|  785| 1600|    Y|    Y|    Y|    1|    0|  300|   charter.com|1/2/2012 15:43:49...|   45|   36|   00011,10020,10003|Mozilla/5.0 (Wind...|   70|    0|    8|   21|    0|         lyman|  usa|  567|   sc|    0|    0|    0|    0|    0| WLOS|    0|    120| WLOS|    0|\n",
      "+----------+-------------------+-------------------+-------------------+-----------+----+----+--------------+----+-----+-----+--------------------+--------------------+-----+--------------+-----+-----+-----+-----+-----+-----+-----+-----+-----+--------------+--------------------+-----+-----+--------------------+--------------------+-----+-----+-----+-----+-----+--------------+-----+-----+-----+-----+-----+-----+-----+-----+-----+-----+-------+-----+-----+\n",
      "only showing top 20 rows\n",
      "\n"
     ]
    }
   ],
   "source": [
    "df6.show(20)"
   ]
  },
  {
   "cell_type": "code",
   "execution_count": 479,
   "metadata": {},
   "outputs": [],
   "source": [
    "# creating default table for 3 df\n",
    "t1 = df.alias('t1')\n",
    "t2 = df1.alias('t2')\n",
    "t3 = df6.alias('t3')"
   ]
  },
  {
   "cell_type": "code",
   "execution_count": 480,
   "metadata": {},
   "outputs": [
    {
     "name": "stdout",
     "output_type": "stream",
     "text": [
      "+----------+-------------------+-------------------+-------------------+-----------+----+----+--------------+----+-----+-----+--------------------+--------------------+-----+--------------+-----+-----+-----+-----+-----+-----+-----+-----+-----+--------------+--------------------+-----+-----+--------------------+--------------------+-----+-----+-----+-----+-----+--------------+-----+-----+-----+-----+-----+-----+-----+-----+-----+-----+-------+-----+-----+--------------------+-----------+\n",
      "|      col1|               col2|               col3|               col4|       col5|col6|col7|          col8|col9|col10|col11|               col12|               col13|col14|         col15|col16|col17|col18|col19|col20|col21|col22|col23|col24|         col25|               col26|col27|col28|               col29|               col30|col31|col32|col33|col34|col35|         col36|col37|col38|col39|col40|col41|col42|col43|col44|col45|col46|  col47|col48|col49|                 url|   category|\n",
      "+----------+-------------------+-------------------+-------------------+-----------+----+----+--------------+----+-----+-----+--------------------+--------------------+-----+--------------+-----+-----+-----+-----+-----+-----+-----+-----+-----+--------------+--------------------+-----+-----+--------------------+--------------------+-----+-----+-----+-----+-----+--------------+-----+-----+-----+-----+-----+-----+-----+-----+-----+-----+-------+-----+-----+--------------------+-----------+\n",
      "|1330642665|2012-03-01 14:57:45|5325504935867980089| 732128079555615205|FAS-2.8-AS3|   N|   0|  99.46.44.132|   1|    0|   10|http://www.acme.c...|97BA2E9D-EEF2-4FD...|    U|         en-us|  589|    0|    0|    U|    U|    Y|    0|    0|  304| sbcglobal.net|1/2/2012 16:30:8 ...|   45|    2|                null|Mozilla/5.0 (Maci...|   71|    0|   29|   29|    0|        dallas|  usa|  623|   tx|    0|    0|    0|    0|    0| WFAA|    0|    120| WFAA|    0|http://www.acme.c...|home&garden|\n",
      "|1330642307|2012-03-01 14:51:47|5325504935867980089| 732128079555615205|FAS-2.8-AS3|   N|   0|  99.46.44.132|   1|    0|   10|http://www.acme.c...|97BA2E9D-EEF2-4FD...|    U|         en-us|  589|    0|    0|    U|    U|    Y|    0|    0|  304| sbcglobal.net|1/2/2012 16:30:8 ...|   45|    2|                null|Mozilla/5.0 (Maci...|   71|    0|   29|   27|    0|        dallas|  usa|  623|   tx|    0|    0|    0|    0|    0| WFAA|    0|239,120| WFAA|    0|http://www.acme.c...|home&garden|\n",
      "|1330641684|2012-03-01 14:41:24|5325504935867980089| 732128079555615205|FAS-2.8-AS3|   N|   0|  99.46.44.132|   1|    0|   10|http://www.acme.c...|97BA2E9D-EEF2-4FD...|    U|         en-us|  589|    0|    0|    U|    U|    Y|    0|    0|  304| sbcglobal.net|1/2/2012 16:30:8 ...|   45|    2|                null|Mozilla/5.0 (Maci...|   71|    0|   29|   25|    0|        dallas|  usa|  623|   tx|    0|    0|    0|    0|    0| WFAA|    0|239,120| WFAA|    0|http://www.acme.c...|home&garden|\n",
      "|1330641354|2012-03-01 14:35:54|5325504935867980089| 732128079555615205|FAS-2.8-AS3|   N|   0|  99.46.44.132|   1|    0|   10|http://www.acme.c...|97BA2E9D-EEF2-4FD...|    U|         en-us|  589|    0|    0|    U|    U|    Y|    0|    0|  304| sbcglobal.net|1/2/2012 16:30:8 ...|   45|    2|                null|Mozilla/5.0 (Maci...|   71|    0|   29|   21|    0|        dallas|  usa|  623|   tx|    0|    0|    0|    0|    0| WFAA|    0|    120| WFAA|    0|http://www.acme.c...|home&garden|\n",
      "|1330641302|2012-03-01 14:35:02|5325504935867980089| 732128079555615205|FAS-2.8-AS3|   N|   0|  99.46.44.132|   1|    0|   10|http://www.acme.c...|97BA2E9D-EEF2-4FD...|    U|         en-us|  589|    0|    0|    U|    U|    Y|    0|    0|  304| sbcglobal.net|1/2/2012 16:30:8 ...|   45|    2|                null|Mozilla/5.0 (Maci...|   71|    0|   29|   20|    0|        dallas|  usa|  623|   tx|    0|    0|    0|    0|    0| WFAA|    0|    120| WFAA|    0|http://www.acme.c...|home&garden|\n",
      "|1330641272|2012-03-01 14:34:32|5325504935867980089| 732128079555615205|FAS-2.8-AS3|   N|   0|  99.46.44.132|   1|    0|   10|http://www.acme.c...|97BA2E9D-EEF2-4FD...|    U|         en-us|  589|    0|    0|    U|    U|    Y|    0|    0|  304| sbcglobal.net|1/2/2012 16:30:8 ...|   45|    2|                null|Mozilla/5.0 (Maci...|   71|    0|   29|   18|    0|        dallas|  usa|  623|   tx|    0|    0|    0|    0|    0| WFAA|    0|212,120| WFAA|    0|http://www.acme.c...|home&garden|\n",
      "|1330641219|2012-03-01 14:33:39|5325504935867980089| 732128079555615205|FAS-2.8-AS3|   N|   0|  99.46.44.132|   1|    0|   10|http://www.acme.c...|97BA2E9D-EEF2-4FD...|    U|         en-us|  589|    0|    0|    U|    U|    Y|    0|    0|  304| sbcglobal.net|1/2/2012 16:30:8 ...|   45|    2|                null|Mozilla/5.0 (Maci...|   71|    0|   29|   13|    0|        dallas|  usa|  623|   tx|    0|    0|    0|    0|    0| WFAA|    0|212,120| WFAA|    0|http://www.acme.c...|home&garden|\n",
      "|1330635765|2012-03-01 13:02:45|2768829104290604354|4611687141025243051|FAS-2.8-AS3|   N|   0| 98.155.49.183|   1|    0|   10|http://www.acme.c...|9259CC6D-0ADF-432...|    U|en-us,en;q=0.5|  510|  830| 1680|    Y|    Y|    Y|    1|    0|  300|        rr.com|1/2/2012 11:54:29...|   45|   31|00011,10002,00007...|Mozilla/5.0 (Wind...|  180|    0|   70|   65|    0|     san diego|  usa|  825|   ca|    0|    0|    0|    0|    0| KGTV|    0|    120| KGTV|    0|http://www.acme.c...|   handbags|\n",
      "|1330636691|2012-03-01 13:18:11|2768829104290604354|4611687141025243051|FAS-2.8-AS3|   N|   0| 98.155.49.183|   1|    0|   10|http://www.acme.c...|9259CC6D-0ADF-432...|    U|en-us,en;q=0.5|  510|  830| 1680|    Y|    Y|    Y|    1|    0|  300|        rr.com|1/2/2012 11:54:29...|   45|   31|00011,10002,00007...|Mozilla/5.0 (Wind...|  180|    0|   70|   74|    0|     san diego|  usa|  825|   ca|    0|    0|    0|    0|    0| KGTV|    0|    120| KGTV|    0|http://www.acme.c...|   handbags|\n",
      "|1330638972|2012-03-01 13:56:12|2771408051764569477|6917530611412532533|FAS-2.8-AS3|   N|   0| 76.174.52.116|   1|    0|   10|http://www.acme.c...|C5A0935A-A910-463...|    U|         en-US|  497|  729| 1045|    Y|    Y|    Y|    1|    2|  300|        rr.com|1/2/2012 12:46:53...|   45|   41|                null|Mozilla/4.0 (comp...|   70|    0|   19|   56|    0|woodland hills|  usa|  803|   ca|    0|    0|    0|    0|    0| KABC|    0|    120| KABC|    0|http://www.acme.c...|      tools|\n",
      "|1330635879|2012-03-01 13:04:39|2777955789535522167|6917530185672144965|FAS-2.8-AS3|   N|   0| 67.78.113.169|   1|    0|   10|http://www.acme.c...|F7F312F8-6BAE-4B0...|    U|         en-US|  537|  608| 1396|    Y|    Y|    Y|    2|    2|  300|        rr.com|1/2/2012 14:37:20...|   45|   41|                null|Mozilla/5.0 (comp...|    0|    0|    5|   18|    0|       bastrop|  usa|  635|   tx|    0|    0|    1|    0|    0| KVUE|    0|    120| KVUE|    0|http://www.acme.c...|   handbags|\n",
      "|1330636364|2012-03-01 13:12:44|2777955789535522167|6917530185672144965|FAS-2.8-AS3|   N|   0| 67.78.113.169|   1|    0|   10|http://www.acme.c...|F7F312F8-6BAE-4B0...|    U|         en-US|  537|  608| 1396|    Y|    Y|    Y|    2|    2|  300|        rr.com|1/2/2012 14:37:20...|   45|   41|                null|Mozilla/5.0 (comp...|    0|    0|    5|   23|    0|       bastrop|  usa|  635|   tx|    0|    0|    0|    0|    0| KVUE|    0|    120| KVUE|    0|http://www.acme.c...|   handbags|\n",
      "|1330636471|2012-03-01 13:14:31|2777955789535522167|6917530185672144965|FAS-2.8-AS3|   N|   0| 67.78.113.169|   1|    0|   10|http://www.acme.c...|F7F312F8-6BAE-4B0...|    U|         en-US|  537|  608| 1396|    Y|    Y|    Y|    2|    2|  300|        rr.com|1/2/2012 14:37:20...|   45|   41|                null|Mozilla/5.0 (comp...|    0|    0|    5|   26|    0|       bastrop|  usa|  635|   tx|    0|    0|    0|    0|    0| KVUE|    0|    120| KVUE|    0|http://www.acme.c...|   handbags|\n",
      "|1330636801|2012-03-01 13:20:01|2777955789535522167|6917530185672144965|FAS-2.8-AS3|   N|   0| 67.78.113.169|   1|    0|   10|http://www.acme.c...|F7F312F8-6BAE-4B0...|    U|         en-US|  537|  608| 1396|    Y|    Y|    Y|    2|    2|  300|        rr.com|1/2/2012 14:37:20...|   45|   41|                null|Mozilla/5.0 (comp...|    0|    0|    5|   27|    0|       bastrop|  usa|  635|   tx|    0|    0|    0|    0|    0| KVUE|    0|    120| KVUE|    0|http://www.acme.c...|   handbags|\n",
      "|1330636976|2012-03-01 13:22:56|2777955789535522167|6917530185672144965|FAS-2.8-AS3|   N|   0| 67.78.113.169|   1|    0|   10|http://www.acme.c...|F7F312F8-6BAE-4B0...|    U|         en-US|  537|  608| 1396|    Y|    Y|    Y|    2|    2|  300|        rr.com|1/2/2012 14:37:20...|   45|   41|                null|Mozilla/5.0 (comp...|    0|    0|    5|   34|    0|       bastrop|  usa|  635|   tx|    0|    0|    0|    0|    0| KVUE|    0|    120| KVUE|    0|http://www.acme.c...|   handbags|\n",
      "|1330637600|2012-03-01 13:33:20|2803003660850008886|6917530632348999830|FAS-2.8-AS3|   N|   0|   76.15.8.153|   1|    0|   10|http://www.acme.c...|449F9A2B-F10C-48D...|    U|en-us,en;q=0.5|  591|  666| 1280|    Y|    Y|    Y|    2|    0|  300|mindspring.com|1/2/2012 16:29:36...|   45|    2|               00011|Mozilla/5.0 (Maci...|   71|    0|    7|    6|    0|    high falls|  usa|  501|   ny|    0|    0|    0|    0|    0| WABC|    0|212,120| WABC|    0|http://www.acme.c...|   handbags|\n",
      "|1330637852|2012-03-01 13:37:32|2803003660850008886|6917530632348999830|FAS-2.8-AS3|   N|   0|   76.15.8.153|   1|    0|   10|http://www.acme.c...|449F9A2B-F10C-48D...|    U|en-us,en;q=0.5|  591|  666| 1280|    Y|    Y|    Y|    2|    0|  300|mindspring.com|1/2/2012 16:29:36...|   45|    2|               00011|Mozilla/5.0 (Maci...|   71|    0|    7|    8|    0|    high falls|  usa|  501|   ny|    0|    0|    0|    0|    0| WABC|    0|    120| WABC|    0|http://www.acme.c...|   handbags|\n",
      "|1330639122|2012-03-01 13:58:42|2803003660850008886|6917530632348999830|FAS-2.8-AS3|   N|   0|   76.15.8.153|   1|    0|   10|http://www.acme.c...|449F9A2B-F10C-48D...|    U|en-us,en;q=0.5|  591|  666| 1280|    Y|    Y|    Y|    2|    0|  300|mindspring.com|1/2/2012 16:29:36...|   45|    2|               00011|Mozilla/5.0 (Maci...|   71|    0|    7|   16|    0|    high falls|  usa|  501|   ny|    0|    0|    0|    0|    0| WABC|    0|    120| WABC|    0|http://www.acme.c...|   handbags|\n",
      "|1330638866|2012-03-01 13:54:26|5250475950310697559| 732692249279725810|FAS-2.8-AS3|   N|   0|174.55.213.137|   1|    0|   10|http://www.acme.c...|7CA1C97A-93B7-422...|    U|en-us,en;q=0.5|  591|  633| 1262|    Y|    Y|    Y|    2|    0|  304|   comcast.net|1/2/2012 16:43:24...|   45|   41|10020,00011,00007...|Mozilla/5.0 (Wind...|   71|    0|   18|   10|    0|new bloomfield|  usa|  566|   pa|    0|    0|    0|    0|    0| WHTM|    0|    120| WHTM|    0|http://www.acme.c...|   handbags|\n",
      "|1330635791|2012-03-01 13:03:11|2838980791558542902|4611687125995798216|FAS-2.8-AS3|   N|   0| 75.138.116.59|   1|    0|   10|http://www.acme.c...|253CA5D4-2C47-46D...|    U|en-US,en;q=0.8|  583|  785| 1600|    Y|    Y|    Y|    1|    0|  300|   charter.com|1/2/2012 15:43:49...|   45|   36|   00011,10020,10003|Mozilla/5.0 (Wind...|   70|    0|    8|   21|    0|         lyman|  usa|  567|   sc|    0|    0|    0|    0|    0| WLOS|    0|    120| WLOS|    0|http://www.acme.c...|   handbags|\n",
      "+----------+-------------------+-------------------+-------------------+-----------+----+----+--------------+----+-----+-----+--------------------+--------------------+-----+--------------+-----+-----+-----+-----+-----+-----+-----+-----+-----+--------------+--------------------+-----+-----+--------------------+--------------------+-----+-----+-----+-----+-----+--------------+-----+-----+-----+-----+-----+-----+-----+-----+-----+-----+-------+-----+-----+--------------------+-----------+\n",
      "only showing top 20 rows\n",
      "\n"
     ]
    }
   ],
   "source": [
    "# excuting joining operation for 3 tables\n",
    "t4 = t3.join(t2, t3.col12 == t2.url)\n",
    "t4.show()"
   ]
  },
  {
   "cell_type": "code",
   "execution_count": 483,
   "metadata": {},
   "outputs": [
    {
     "name": "stdout",
     "output_type": "stream",
     "text": [
      "+----------+-------------------+-------------------+-------------------+-----------+----+----+---------------+----+-----+-----+--------------------+--------------------+-----+--------------+-----+-----+-----+-----+-----+-----+-----+-----+-----+--------------+--------------------+-----+-----+--------------------+--------------------+-----+-----+-----+-----+-----+-------------------+-----+-----+-----+-----+-----+-----+-----+-----+-----+-----+-------+-----+-----+--------------------+-----------+--------------------+---------+---------+\n",
      "|      col1|               col2|               col3|               col4|       col5|col6|col7|           col8|col9|col10|col11|               col12|               col13|col14|         col15|col16|col17|col18|col19|col20|col21|col22|col23|col24|         col25|               col26|col27|col28|               col29|               col30|col31|col32|col33|col34|col35|              col36|col37|col38|col39|col40|col41|col42|col43|col44|col45|col46|  col47|col48|col49|                 url|   category|                SWID| BIRTH_DT|GENDER_CD|\n",
      "+----------+-------------------+-------------------+-------------------+-----------+----+----+---------------+----+-----+-----+--------------------+--------------------+-----+--------------+-----+-----+-----+-----+-----+-----+-----+-----+-----+--------------+--------------------+-----+-----+--------------------+--------------------+-----+-----+-----+-----+-----+-------------------+-----+-----+-----+-----+-----+-----+-----+-----+-----+-----+-------+-----+-----+--------------------+-----------+--------------------+---------+---------+\n",
      "|1330642665|2012-03-01 14:57:45|5325504935867980089| 732128079555615205|FAS-2.8-AS3|   N|   0|   99.46.44.132|   1|    0|   10|http://www.acme.c...|97BA2E9D-EEF2-4FD...|    U|         en-us|  589|    0|    0|    U|    U|    Y|    0|    0|  304| sbcglobal.net|1/2/2012 16:30:8 ...|   45|    2|                null|Mozilla/5.0 (Maci...|   71|    0|   29|   29|    0|             dallas|  usa|  623|   tx|    0|    0|    0|    0|    0| WFAA|    0|    120| WFAA|    0|http://www.acme.c...|home&garden|97BA2E9D-EEF2-4FD...| 9-Oct-86|        M|\n",
      "|1330642307|2012-03-01 14:51:47|5325504935867980089| 732128079555615205|FAS-2.8-AS3|   N|   0|   99.46.44.132|   1|    0|   10|http://www.acme.c...|97BA2E9D-EEF2-4FD...|    U|         en-us|  589|    0|    0|    U|    U|    Y|    0|    0|  304| sbcglobal.net|1/2/2012 16:30:8 ...|   45|    2|                null|Mozilla/5.0 (Maci...|   71|    0|   29|   27|    0|             dallas|  usa|  623|   tx|    0|    0|    0|    0|    0| WFAA|    0|239,120| WFAA|    0|http://www.acme.c...|home&garden|97BA2E9D-EEF2-4FD...| 9-Oct-86|        M|\n",
      "|1330641684|2012-03-01 14:41:24|5325504935867980089| 732128079555615205|FAS-2.8-AS3|   N|   0|   99.46.44.132|   1|    0|   10|http://www.acme.c...|97BA2E9D-EEF2-4FD...|    U|         en-us|  589|    0|    0|    U|    U|    Y|    0|    0|  304| sbcglobal.net|1/2/2012 16:30:8 ...|   45|    2|                null|Mozilla/5.0 (Maci...|   71|    0|   29|   25|    0|             dallas|  usa|  623|   tx|    0|    0|    0|    0|    0| WFAA|    0|239,120| WFAA|    0|http://www.acme.c...|home&garden|97BA2E9D-EEF2-4FD...| 9-Oct-86|        M|\n",
      "|1330641354|2012-03-01 14:35:54|5325504935867980089| 732128079555615205|FAS-2.8-AS3|   N|   0|   99.46.44.132|   1|    0|   10|http://www.acme.c...|97BA2E9D-EEF2-4FD...|    U|         en-us|  589|    0|    0|    U|    U|    Y|    0|    0|  304| sbcglobal.net|1/2/2012 16:30:8 ...|   45|    2|                null|Mozilla/5.0 (Maci...|   71|    0|   29|   21|    0|             dallas|  usa|  623|   tx|    0|    0|    0|    0|    0| WFAA|    0|    120| WFAA|    0|http://www.acme.c...|home&garden|97BA2E9D-EEF2-4FD...| 9-Oct-86|        M|\n",
      "|1330641302|2012-03-01 14:35:02|5325504935867980089| 732128079555615205|FAS-2.8-AS3|   N|   0|   99.46.44.132|   1|    0|   10|http://www.acme.c...|97BA2E9D-EEF2-4FD...|    U|         en-us|  589|    0|    0|    U|    U|    Y|    0|    0|  304| sbcglobal.net|1/2/2012 16:30:8 ...|   45|    2|                null|Mozilla/5.0 (Maci...|   71|    0|   29|   20|    0|             dallas|  usa|  623|   tx|    0|    0|    0|    0|    0| WFAA|    0|    120| WFAA|    0|http://www.acme.c...|home&garden|97BA2E9D-EEF2-4FD...| 9-Oct-86|        M|\n",
      "|1330641272|2012-03-01 14:34:32|5325504935867980089| 732128079555615205|FAS-2.8-AS3|   N|   0|   99.46.44.132|   1|    0|   10|http://www.acme.c...|97BA2E9D-EEF2-4FD...|    U|         en-us|  589|    0|    0|    U|    U|    Y|    0|    0|  304| sbcglobal.net|1/2/2012 16:30:8 ...|   45|    2|                null|Mozilla/5.0 (Maci...|   71|    0|   29|   18|    0|             dallas|  usa|  623|   tx|    0|    0|    0|    0|    0| WFAA|    0|212,120| WFAA|    0|http://www.acme.c...|home&garden|97BA2E9D-EEF2-4FD...| 9-Oct-86|        M|\n",
      "|1330641219|2012-03-01 14:33:39|5325504935867980089| 732128079555615205|FAS-2.8-AS3|   N|   0|   99.46.44.132|   1|    0|   10|http://www.acme.c...|97BA2E9D-EEF2-4FD...|    U|         en-us|  589|    0|    0|    U|    U|    Y|    0|    0|  304| sbcglobal.net|1/2/2012 16:30:8 ...|   45|    2|                null|Mozilla/5.0 (Maci...|   71|    0|   29|   13|    0|             dallas|  usa|  623|   tx|    0|    0|    0|    0|    0| WFAA|    0|212,120| WFAA|    0|http://www.acme.c...|home&garden|97BA2E9D-EEF2-4FD...| 9-Oct-86|        M|\n",
      "|1330635765|2012-03-01 13:02:45|2768829104290604354|4611687141025243051|FAS-2.8-AS3|   N|   0|  98.155.49.183|   1|    0|   10|http://www.acme.c...|9259CC6D-0ADF-432...|    U|en-us,en;q=0.5|  510|  830| 1680|    Y|    Y|    Y|    1|    0|  300|        rr.com|1/2/2012 11:54:29...|   45|   31|00011,10002,00007...|Mozilla/5.0 (Wind...|  180|    0|   70|   65|    0|          san diego|  usa|  825|   ca|    0|    0|    0|    0|    0| KGTV|    0|    120| KGTV|    0|http://www.acme.c...|   handbags|9259CC6D-0ADF-432...| 4-Sep-82|        F|\n",
      "|1330636691|2012-03-01 13:18:11|2768829104290604354|4611687141025243051|FAS-2.8-AS3|   N|   0|  98.155.49.183|   1|    0|   10|http://www.acme.c...|9259CC6D-0ADF-432...|    U|en-us,en;q=0.5|  510|  830| 1680|    Y|    Y|    Y|    1|    0|  300|        rr.com|1/2/2012 11:54:29...|   45|   31|00011,10002,00007...|Mozilla/5.0 (Wind...|  180|    0|   70|   74|    0|          san diego|  usa|  825|   ca|    0|    0|    0|    0|    0| KGTV|    0|    120| KGTV|    0|http://www.acme.c...|   handbags|9259CC6D-0ADF-432...| 4-Sep-82|        F|\n",
      "|1330637600|2012-03-01 13:33:20|2803003660850008886|6917530632348999830|FAS-2.8-AS3|   N|   0|    76.15.8.153|   1|    0|   10|http://www.acme.c...|449F9A2B-F10C-48D...|    U|en-us,en;q=0.5|  591|  666| 1280|    Y|    Y|    Y|    2|    0|  300|mindspring.com|1/2/2012 16:29:36...|   45|    2|               00011|Mozilla/5.0 (Maci...|   71|    0|    7|    6|    0|         high falls|  usa|  501|   ny|    0|    0|    0|    0|    0| WABC|    0|212,120| WABC|    0|http://www.acme.c...|   handbags|449F9A2B-F10C-48D...|13-Sep-90|        F|\n",
      "|1330637852|2012-03-01 13:37:32|2803003660850008886|6917530632348999830|FAS-2.8-AS3|   N|   0|    76.15.8.153|   1|    0|   10|http://www.acme.c...|449F9A2B-F10C-48D...|    U|en-us,en;q=0.5|  591|  666| 1280|    Y|    Y|    Y|    2|    0|  300|mindspring.com|1/2/2012 16:29:36...|   45|    2|               00011|Mozilla/5.0 (Maci...|   71|    0|    7|    8|    0|         high falls|  usa|  501|   ny|    0|    0|    0|    0|    0| WABC|    0|    120| WABC|    0|http://www.acme.c...|   handbags|449F9A2B-F10C-48D...|13-Sep-90|        F|\n",
      "|1330639122|2012-03-01 13:58:42|2803003660850008886|6917530632348999830|FAS-2.8-AS3|   N|   0|    76.15.8.153|   1|    0|   10|http://www.acme.c...|449F9A2B-F10C-48D...|    U|en-us,en;q=0.5|  591|  666| 1280|    Y|    Y|    Y|    2|    0|  300|mindspring.com|1/2/2012 16:29:36...|   45|    2|               00011|Mozilla/5.0 (Maci...|   71|    0|    7|   16|    0|         high falls|  usa|  501|   ny|    0|    0|    0|    0|    0| WABC|    0|    120| WABC|    0|http://www.acme.c...|   handbags|449F9A2B-F10C-48D...|13-Sep-90|        F|\n",
      "|1330638866|2012-03-01 13:54:26|5250475950310697559| 732692249279725810|FAS-2.8-AS3|   N|   0| 174.55.213.137|   1|    0|   10|http://www.acme.c...|7CA1C97A-93B7-422...|    U|en-us,en;q=0.5|  591|  633| 1262|    Y|    Y|    Y|    2|    0|  304|   comcast.net|1/2/2012 16:43:24...|   45|   41|10020,00011,00007...|Mozilla/5.0 (Wind...|   71|    0|   18|   10|    0|     new bloomfield|  usa|  566|   pa|    0|    0|    0|    0|    0| WHTM|    0|    120| WHTM|    0|http://www.acme.c...|   handbags|7CA1C97A-93B7-422...| 7-Jul-83|        M|\n",
      "|1330635791|2012-03-01 13:03:11|2838980791558542902|4611687125995798216|FAS-2.8-AS3|   N|   0|  75.138.116.59|   1|    0|   10|http://www.acme.c...|253CA5D4-2C47-46D...|    U|en-US,en;q=0.8|  583|  785| 1600|    Y|    Y|    Y|    1|    0|  300|   charter.com|1/2/2012 15:43:49...|   45|   36|   00011,10020,10003|Mozilla/5.0 (Wind...|   70|    0|    8|   21|    0|              lyman|  usa|  567|   sc|    0|    0|    0|    0|    0| WLOS|    0|    120| WLOS|    0|http://www.acme.c...|   handbags|253CA5D4-2C47-46D...|11-Nov-85|        M|\n",
      "|1330636128|2012-03-01 13:08:48|2838980791558542902|4611687125995798216|FAS-2.8-AS3|   N|   0|  75.138.116.59|   1|    0|   10|http://www.acme.c...|253CA5D4-2C47-46D...|    U|en-US,en;q=0.8|  583|  785| 1600|    Y|    Y|    Y|    1|    0|  300|   charter.com|1/2/2012 15:43:49...|   45|   36|   00011,10020,10003|Mozilla/5.0 (Wind...|   70|    0|    8|   25|    0|              lyman|  usa|  567|   sc|    0|    0|    0|    0|    0| WLOS|    0|212,120| WLOS|    0|http://www.acme.c...|   handbags|253CA5D4-2C47-46D...|11-Nov-85|        M|\n",
      "|1330638848|2012-03-01 13:54:08|2851013151029572432|6917530847640581330|FAS-2.8-AS3|   N|   0|128.149.135.100|   1|    0|   10|http://www.acme.c...|E518379A-975D-4AB...|    U|en-us,en;q=0.5|  591|    0|    0|    U|    U|    Y|    0|    0|  302|      nasa.gov|1/2/2012 13:41:11...|   45|   41|                null|Mozilla/5.0 (Wind...|   18|    0|    8|    9|    0|           pasadena|  usa|  803|   ca|    0|    0|    0|    0|    0| KABC|    0|    120| KABC|    0|http://www.acme.c...|electronics|E518379A-975D-4AB...| 9-Mar-57|        U|\n",
      "|1330638847|2012-03-01 13:54:07|2851013151029572432|6917530847640581330|FAS-2.8-AS3|   N|   0|128.149.135.100|   1|    0|   10|http://www.acme.c...|E518379A-975D-4AB...|    U|en-us,en;q=0.5|  591|    0|    0|    U|    U|    Y|    0|    0|  302|      nasa.gov|1/2/2012 13:41:11...|   45|   41|                null|Mozilla/5.0 (Wind...|   18|    0|    8|    8|    0|           pasadena|  usa|  803|   ca|    0|    0|    0|    0|    0| KABC|    0|212,120| KABC|    0|http://www.acme.c...|electronics|E518379A-975D-4AB...| 9-Mar-57|        U|\n",
      "|1330638751|2012-03-01 13:52:31|2851013151029572432|6917530847640581330|FAS-2.8-AS3|   N|   0|128.149.135.100|   1|    0|   10|http://www.acme.c...|E518379A-975D-4AB...|    U|en-us,en;q=0.5|  591|    0|    0|    U|    U|    Y|    0|    0|  302|      nasa.gov|1/2/2012 13:41:11...|   45|   41|                null|Mozilla/5.0 (Wind...|   18|    0|    8|    7|    0|           pasadena|  usa|  803|   ca|    0|    0|    0|    0|    0| KABC|    0|    120| KABC|    0|http://www.acme.c...|electronics|E518379A-975D-4AB...| 9-Mar-57|        U|\n",
      "|1330638422|2012-03-01 13:47:02|2851013151029572432|6917530847640581330|FAS-2.8-AS3|   N|   0|128.149.135.100|   1|    0|   10|http://www.acme.c...|E518379A-975D-4AB...|    U|en-us,en;q=0.5|  591|    0|    0|    U|    U|    Y|    0|    0|  302|      nasa.gov|1/2/2012 13:41:11...|   45|   41|                null|Mozilla/5.0 (Wind...|   18|    0|    8|    4|    0|           pasadena|  usa|  803|   ca|    0|    0|    0|    0|    0| KABC|    0|212,120| KABC|    0|http://www.acme.c...|electronics|E518379A-975D-4AB...| 9-Mar-57|        U|\n",
      "|1330636104|2012-03-01 13:08:24|2818518171497380296|4611687618305835531|FAS-2.8-AS3|   N|   0| 151.151.109.14|   1|    0|   10|http://www.acme.c...|79385415-6CAB-11D...|    U|         en-US|  497|  796| 1280|    Y|    Y|    Y|    1|    2|  300|wellsfargo.com|1/2/2012 12:41:10...|   45|   31|                null|Mozilla/4.0 (comp...|   13|    0|   95|   20|    0|rancho palos verdes|  usa|  803|   ca|    0|    0|    0|    0|    0| KNXV|    0|    120| KNXV|    0|http://www.acme.c...|     movies|79385415-6CAB-11D...| 8-Mar-67|        M|\n",
      "+----------+-------------------+-------------------+-------------------+-----------+----+----+---------------+----+-----+-----+--------------------+--------------------+-----+--------------+-----+-----+-----+-----+-----+-----+-----+-----+-----+--------------+--------------------+-----+-----+--------------------+--------------------+-----+-----+-----+-----+-----+-------------------+-----+-----+-----+-----+-----+-----+-----+-----+-----+-----+-------+-----+-----+--------------------+-----------+--------------------+---------+---------+\n",
      "only showing top 20 rows\n",
      "\n"
     ]
    }
   ],
   "source": [
    "t5 = t4.join(t1, t4.col13 == t1.SWID)\n",
    "t5.show()"
   ]
  },
  {
   "cell_type": "code",
   "execution_count": 547,
   "metadata": {},
   "outputs": [],
   "source": [
    "t5.createOrReplaceTempView('t5')"
   ]
  },
  {
   "cell_type": "code",
   "execution_count": 549,
   "metadata": {},
   "outputs": [],
   "source": [
    "query_results = spark.sql(\"SELECT gender_cd as gender_cd, birth_dt as birth_dt, col1 as col1 FROM t5\")\\\n",
    "    .write.format(\"org.apache.spark.sql.cassandra\")\\\n",
    "    .options(table=\"final\",keyspace=\"test\")\\\n",
    "    .save(mode=\"append\")"
   ]
  },
  {
   "cell_type": "code",
   "execution_count": 550,
   "metadata": {},
   "outputs": [],
   "source": [
    "query_results = t5.select(\"swid\", \"url\", \"category\", \"col1\")\\\n",
    "    .write.format(\"org.apache.spark.sql.cassandra\")\\\n",
    "    .options(table=\"final\",keyspace=\"test\")\\\n",
    "    .save(mode=\"append\")"
   ]
  },
  {
   "cell_type": "code",
   "execution_count": 552,
   "metadata": {},
   "outputs": [],
   "source": [
    "query_results = t5.select([c for c in t5.columns if c not in {'GENDER_CD', 'BIRTH_DT', 'url', 'category', 'SWID'}])\\\n",
    "    .write.format(\"org.apache.spark.sql.cassandra\")\\\n",
    "    .options(table=\"final\", keyspace=\"test\")\\\n",
    "    .save(mode=\"append\")"
   ]
  }
 ],
 "metadata": {
  "kernelspec": {
   "display_name": "Python 3",
   "language": "python",
   "name": "python3"
  },
  "language_info": {
   "codemirror_mode": {
    "name": "ipython",
    "version": 3
   },
   "file_extension": ".py",
   "mimetype": "text/x-python",
   "name": "python",
   "nbconvert_exporter": "python",
   "pygments_lexer": "ipython3",
   "version": "3.6.9"
  }
 },
 "nbformat": 4,
 "nbformat_minor": 4
}
